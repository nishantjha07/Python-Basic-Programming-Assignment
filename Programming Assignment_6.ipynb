{
 "cells": [
  {
   "cell_type": "markdown",
   "id": "398a0715",
   "metadata": {},
   "source": [
    "### Q1. Write a Python Program to Display Fibonacci Sequence Using Recursion?"
   ]
  },
  {
   "cell_type": "markdown",
   "id": "b883fce1",
   "metadata": {},
   "source": [
    "### Ans1."
   ]
  },
  {
   "cell_type": "code",
   "execution_count": 1,
   "id": "526e2d15",
   "metadata": {},
   "outputs": [
    {
     "name": "stdout",
     "output_type": "stream",
     "text": [
      "Enter the number of terms to display in the Fibonacci sequence: 5\n",
      "0 1 1 2 3 \n"
     ]
    }
   ],
   "source": [
    "def fibonacci(n):\n",
    "    \"\"\"Return the nth Fibonacci number.\"\"\"\n",
    "    if n <= 0:\n",
    "        return 0\n",
    "    elif n == 1:\n",
    "        return 1\n",
    "    else:\n",
    "        return fibonacci(n - 1) + fibonacci(n - 2)\n",
    "\n",
    "def display_fibonacci_sequence(terms):\n",
    "    \"\"\"Display the Fibonacci sequence up to the given number of terms.\"\"\"\n",
    "    for i in range(terms):\n",
    "        print(fibonacci(i), end=' ')\n",
    "    print()  # Newline after the sequence\n",
    "\n",
    "# Example usage:\n",
    "number_of_terms = int(input(\"Enter the number of terms to display in the Fibonacci sequence: \"))\n",
    "display_fibonacci_sequence(number_of_terms)\n"
   ]
  },
  {
   "cell_type": "markdown",
   "id": "c232e744",
   "metadata": {},
   "source": [
    "### Q2. Write a Python Program to Find Factorial of Number Using Recursion?"
   ]
  },
  {
   "cell_type": "markdown",
   "id": "266210e9",
   "metadata": {},
   "source": [
    "### Ans2."
   ]
  },
  {
   "cell_type": "code",
   "execution_count": 2,
   "id": "f80781fa",
   "metadata": {},
   "outputs": [
    {
     "name": "stdout",
     "output_type": "stream",
     "text": [
      "Enter a non-negative integer to find its factorial: 5\n",
      "The factorial of 5 is 120.\n"
     ]
    }
   ],
   "source": [
    "def factorial(n):\n",
    "    \"\"\"Return the factorial of n using recursion.\"\"\"\n",
    "    if n == 0:\n",
    "        return 1  # Base case: 0! = 1\n",
    "    else:\n",
    "        return n * factorial(n - 1)  # Recursive case: n! = n * (n-1)!\n",
    "\n",
    "# Example usage:\n",
    "try:\n",
    "    number = int(input(\"Enter a non-negative integer to find its factorial: \"))\n",
    "    if number < 0:\n",
    "        print(\"Factorial is not defined for negative numbers.\")\n",
    "    else:\n",
    "        result = factorial(number)\n",
    "        print(f\"The factorial of {number} is {result}.\")\n",
    "except ValueError:\n",
    "    print(\"Please enter a valid integer.\")\n"
   ]
  },
  {
   "cell_type": "markdown",
   "id": "28641771",
   "metadata": {},
   "source": [
    "### Q3. Write a Python Program to calculate your Body Mass Index?"
   ]
  },
  {
   "cell_type": "markdown",
   "id": "e399cee1",
   "metadata": {},
   "source": [
    "### Ans3.\n",
    "\n",
    "To calculate your Body Mass Index (BMI), you need to know your weight and height. BMI is calculated using the formula:\n",
    "\n",
    "BMI=weight (kg)/height (m)2"
   ]
  },
  {
   "cell_type": "code",
   "execution_count": 4,
   "id": "4fd1f964",
   "metadata": {},
   "outputs": [
    {
     "name": "stdout",
     "output_type": "stream",
     "text": [
      "Enter your weight in kilograms: 75\n",
      "Enter your height in meters (or in centimeters if greater than 10): 165\n",
      "Your BMI is: 27.55\n",
      "Your BMI category is: Overweight\n"
     ]
    }
   ],
   "source": [
    "def calculate_bmi(weight, height):\n",
    "    \"\"\"Calculate and return the Body Mass Index (BMI).\"\"\"\n",
    "    try:\n",
    "        # Convert height to meters if provided in centimeters\n",
    "        if height > 10:  # Assuming height in centimeters if greater than 10\n",
    "            height = height / 100\n",
    "        \n",
    "        # Calculate BMI\n",
    "        bmi = weight / (height ** 2)\n",
    "        return bmi\n",
    "    except ZeroDivisionError:\n",
    "        return \"Height cannot be zero.\"\n",
    "    except Exception as e:\n",
    "        return f\"An error occurred: {e}\"\n",
    "\n",
    "def categorize_bmi(bmi):\n",
    "    \"\"\"Return the BMI category based on the BMI value.\"\"\"\n",
    "    if bmi < 18.5:\n",
    "        return \"Underweight\"\n",
    "    elif 18.5 <= bmi < 24.9:\n",
    "        return \"Normal weight\"\n",
    "    elif 25 <= bmi < 29.9:\n",
    "        return \"Overweight\"\n",
    "    else:\n",
    "        return \"Obesity\"\n",
    "\n",
    "# Example usage:\n",
    "try:\n",
    "    weight = float(input(\"Enter your weight in kilograms: \"))\n",
    "    height = float(input(\"Enter your height in meters (or in centimeters if greater than 10): \"))\n",
    "    \n",
    "    bmi = calculate_bmi(weight, height)\n",
    "    \n",
    "    if isinstance(bmi, str):\n",
    "        print(bmi)\n",
    "    else:\n",
    "        print(f\"Your BMI is: {bmi:.2f}\")\n",
    "        print(f\"Your BMI category is: {categorize_bmi(bmi)}\")\n",
    "except ValueError:\n",
    "    print(\"Please enter valid numeric values.\")\n"
   ]
  },
  {
   "cell_type": "markdown",
   "id": "17f4b5a0",
   "metadata": {},
   "source": [
    "### Q4. Write a Python Program to calculate the natural logarithm of any number?"
   ]
  },
  {
   "cell_type": "markdown",
   "id": "e0a008f3",
   "metadata": {},
   "source": [
    "### Ans4."
   ]
  },
  {
   "cell_type": "code",
   "execution_count": 5,
   "id": "92e7eba3",
   "metadata": {},
   "outputs": [
    {
     "name": "stdout",
     "output_type": "stream",
     "text": [
      "Enter a positive number to calculate its natural logarithm: 10\n",
      "The natural logarithm of 10.0 is 2.3026\n"
     ]
    }
   ],
   "source": [
    "import math\n",
    "\n",
    "def calculate_natural_logarithm(number):\n",
    "    \"\"\"Calculate and return the natural logarithm of the given number.\"\"\"\n",
    "    try:\n",
    "        if number <= 0:\n",
    "            return \"Natural logarithm is only defined for positive numbers.\"\n",
    "        return math.log(number)\n",
    "    except Exception as e:\n",
    "        return f\"An error occurred: {e}\"\n",
    "\n",
    "# Example usage:\n",
    "try:\n",
    "    number = float(input(\"Enter a positive number to calculate its natural logarithm: \"))\n",
    "    result = calculate_natural_logarithm(number)\n",
    "    \n",
    "    if isinstance(result, str):\n",
    "        print(result)\n",
    "    else:\n",
    "        print(f\"The natural logarithm of {number} is {result:.4f}\")\n",
    "except ValueError:\n",
    "    print(\"Please enter a valid number.\")\n"
   ]
  },
  {
   "cell_type": "markdown",
   "id": "5273a83e",
   "metadata": {},
   "source": [
    "### Q5. Write a Python Program for cube sum of first n natural numbers?"
   ]
  },
  {
   "cell_type": "markdown",
   "id": "26c42178",
   "metadata": {},
   "source": [
    "### Ans5."
   ]
  },
  {
   "cell_type": "code",
   "execution_count": 6,
   "id": "aac72657",
   "metadata": {},
   "outputs": [
    {
     "name": "stdout",
     "output_type": "stream",
     "text": [
      "Enter a positive integer n to calculate the sum of cubes of the first n natural numbers: 8\n",
      "The sum of cubes of the first 8 natural numbers is 1296.\n"
     ]
    }
   ],
   "source": [
    "def cube_sum(n):\n",
    "    \"\"\"Calculate the sum of cubes of the first n natural numbers.\"\"\"\n",
    "    if n <= 0:\n",
    "        return \"Input must be a positive integer.\"\n",
    "    # Calculate the sum of cubes using the formula\n",
    "    sum_cubes = (n * (n + 1) // 2) ** 2\n",
    "    return sum_cubes\n",
    "\n",
    "# Example usage:\n",
    "try:\n",
    "    n = int(input(\"Enter a positive integer n to calculate the sum of cubes of the first n natural numbers: \"))\n",
    "    if n <= 0:\n",
    "        print(\"Please enter a positive integer.\")\n",
    "    else:\n",
    "        result = cube_sum(n)\n",
    "        print(f\"The sum of cubes of the first {n} natural numbers is {result}.\")\n",
    "except ValueError:\n",
    "    print(\"Please enter a valid integer.\")\n"
   ]
  },
  {
   "cell_type": "code",
   "execution_count": null,
   "id": "cf47c191",
   "metadata": {},
   "outputs": [],
   "source": []
  }
 ],
 "metadata": {
  "kernelspec": {
   "display_name": "Python 3 (ipykernel)",
   "language": "python",
   "name": "python3"
  },
  "language_info": {
   "codemirror_mode": {
    "name": "ipython",
    "version": 3
   },
   "file_extension": ".py",
   "mimetype": "text/x-python",
   "name": "python",
   "nbconvert_exporter": "python",
   "pygments_lexer": "ipython3",
   "version": "3.9.13"
  }
 },
 "nbformat": 4,
 "nbformat_minor": 5
}
