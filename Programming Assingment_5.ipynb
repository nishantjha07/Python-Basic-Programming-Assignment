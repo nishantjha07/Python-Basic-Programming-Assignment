{
 "cells": [
  {
   "cell_type": "markdown",
   "id": "852545ea",
   "metadata": {},
   "source": [
    "### Q1. Write a Python Program to Find LCM?"
   ]
  },
  {
   "cell_type": "markdown",
   "id": "c6d8688e",
   "metadata": {},
   "source": [
    "### Ans1."
   ]
  },
  {
   "cell_type": "code",
   "execution_count": 2,
   "id": "ac81e699",
   "metadata": {},
   "outputs": [
    {
     "name": "stdout",
     "output_type": "stream",
     "text": [
      "The LCM of 6,12 is 12\n",
      "The LCM of 10,5 is 10\n",
      "The LCM of 12,100 is 300\n"
     ]
    }
   ],
   "source": [
    "def findTheLcm(x,y):\n",
    "    if x > y:\n",
    "        greater =x\n",
    "    else:\n",
    "        greater =x\n",
    "    while True:\n",
    "        if ((greater%x==0) and (greater%y==0)):\n",
    "            lcm = greater\n",
    "            break\n",
    "        else:\n",
    "            greater +=1\n",
    "    print(f'The LCM of {x},{y} is {lcm}')\n",
    "                  \n",
    "findTheLcm(6,12)\n",
    "findTheLcm(10,5)\n",
    "findTheLcm(12,100)  "
   ]
  },
  {
   "cell_type": "markdown",
   "id": "7ed60b8c",
   "metadata": {},
   "source": [
    "### Q2.Write a Python Program to Find HCF?"
   ]
  },
  {
   "cell_type": "markdown",
   "id": "d3bfb63a",
   "metadata": {},
   "source": [
    "### Ans2."
   ]
  },
  {
   "cell_type": "code",
   "execution_count": 3,
   "id": "b0f688e9",
   "metadata": {},
   "outputs": [
    {
     "name": "stdout",
     "output_type": "stream",
     "text": [
      "The HCF of 6,12 is 6\n",
      "The HCF of 10,5 is 5\n",
      "The HCF of 12,100 is 4\n"
     ]
    }
   ],
   "source": [
    "def findTheHcf(x,y):\n",
    "    if x > y:\n",
    "        smaller=y\n",
    "    else:\n",
    "        smaller = x\n",
    "    for ele in range(1,smaller+1):\n",
    "        if ((x%ele==0) and (y%ele==0)):\n",
    "            hcf=ele\n",
    "    print(f'The HCF of {x},{y} is {hcf}')\n",
    "findTheHcf(6,12)\n",
    "findTheHcf(10,5)\n",
    "findTheHcf(12,100)"
   ]
  },
  {
   "cell_type": "markdown",
   "id": "b4ae61d1",
   "metadata": {},
   "source": [
    "### Q3. Write a Python Program to Convert Decimal to Binary, Octal and Hexadecimal?"
   ]
  },
  {
   "cell_type": "markdown",
   "id": "59b522e1",
   "metadata": {},
   "source": [
    "### Ans3."
   ]
  },
  {
   "cell_type": "code",
   "execution_count": 4,
   "id": "9a89db99",
   "metadata": {},
   "outputs": [
    {
     "name": "stdout",
     "output_type": "stream",
     "text": [
      "Enter number :1000\n",
      "1000 in binary :  0b1111101000\n",
      "1000 in Octal :  0o1750\n",
      "1000 in Hexadecimal :  0x3e8\n"
     ]
    }
   ],
   "source": [
    "num=int(input(\"Enter number :\"))\n",
    "\n",
    "print(num, \"in binary : \", bin(num))\n",
    "print(num, \"in Octal : \", oct(num))\n",
    "print(num, \"in Hexadecimal : \",hex(num))"
   ]
  },
  {
   "cell_type": "markdown",
   "id": "219da56a",
   "metadata": {},
   "source": [
    "### Q4. Write a Python Program To Find ASCII value of a character?"
   ]
  },
  {
   "cell_type": "markdown",
   "id": "04ae4718",
   "metadata": {},
   "source": [
    "### Ans4."
   ]
  },
  {
   "cell_type": "code",
   "execution_count": 5,
   "id": "c04f5b1c",
   "metadata": {},
   "outputs": [
    {
     "name": "stdout",
     "output_type": "stream",
     "text": [
      "Enter a Charecter : N\n",
      "Ascii value of N is 78\n"
     ]
    }
   ],
   "source": [
    "str = input(\"Enter a Charecter : \")\n",
    "# ord gives the ASCII value of a character\n",
    "print(\"Ascii value of {} is {}\".format(str,ord(str)))"
   ]
  },
  {
   "cell_type": "markdown",
   "id": "61428333",
   "metadata": {},
   "source": [
    "### Q5. Write a Python Program to Make a Simple Calculator with 4 basic mathematical operations?"
   ]
  },
  {
   "cell_type": "markdown",
   "id": "71d633a2",
   "metadata": {},
   "source": [
    "### Ans5."
   ]
  },
  {
   "cell_type": "code",
   "execution_count": 1,
   "id": "258e60e6",
   "metadata": {},
   "outputs": [
    {
     "name": "stdout",
     "output_type": "stream",
     "text": [
      "Select a Arithmetic Operation:         \n",
      "1.Addition(+)        \n",
      "2.Division(-)        \n",
      "2.Multiplication(*)        \n",
      "4.Division(/)        \n",
      "3.Stop(0)\n",
      "\n",
      "Enter a arithmetic operation -> +\n",
      "\n",
      "Enter 1st Number: 1\n",
      "Enter 2nd Number: 1\n",
      "1+1=2\n",
      "\n",
      "Enter a arithmetic operation -> -\n",
      "\n",
      "Enter 1st Number: 2\n",
      "Enter 2nd Number: 2\n",
      "2-2=0\n",
      "\n",
      "Enter a arithmetic operation -> *\n",
      "\n",
      "Enter 1st Number: 3\n",
      "Enter 2nd Number: 3\n",
      "3*3=9\n",
      "\n",
      "Enter a arithmetic operation -> /4\n",
      "Please enter a valid operator\n",
      "Enter a arithmetic operation -> /\n",
      "\n",
      "Enter 1st Number: 4\n",
      "Enter 2nd Number: 4\n",
      "4/4=1.0\n",
      "\n",
      "Enter a arithmetic operation -> 0\n",
      "Program Stopped\n"
     ]
    }
   ],
   "source": [
    "import operator\n",
    "\n",
    "ops = { \"+\": operator.add, \"-\": operator.sub, \"*\":operator.mul, \"/\":operator.truediv } \n",
    "\n",
    "print('Select a Arithmetic Operation: \\\n",
    "        \\n1.Addition(+)\\\n",
    "        \\n2.Division(-)\\\n",
    "        \\n2.Multiplication(*)\\\n",
    "        \\n4.Division(/)\\\n",
    "        \\n3.Stop(0)\\n')\n",
    "   \n",
    "\n",
    "while True:\n",
    "    operator = input('Enter a arithmetic operation -> ')\n",
    "    if operator == '0':\n",
    "        print(\"Program Stopped\")\n",
    "        break\n",
    "    elif operator not in ['+','-','*','/']:\n",
    "        print(\"Please enter a valid operator\")\n",
    "    else:\n",
    "        num_1 = int(input('\\nEnter 1st Number: '))\n",
    "        num_2 = int(input('Enter 2nd Number: '))\n",
    "        print(f'{num_1}{operator}{num_2}={ops[operator](num_1,num_2)}\\n')"
   ]
  }
 ],
 "metadata": {
  "kernelspec": {
   "display_name": "Python 3 (ipykernel)",
   "language": "python",
   "name": "python3"
  },
  "language_info": {
   "codemirror_mode": {
    "name": "ipython",
    "version": 3
   },
   "file_extension": ".py",
   "mimetype": "text/x-python",
   "name": "python",
   "nbconvert_exporter": "python",
   "pygments_lexer": "ipython3",
   "version": "3.9.13"
  }
 },
 "nbformat": 4,
 "nbformat_minor": 5
}
