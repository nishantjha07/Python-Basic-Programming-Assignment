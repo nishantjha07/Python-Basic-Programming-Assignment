{
 "cells": [
  {
   "cell_type": "markdown",
   "id": "632ecc7d",
   "metadata": {},
   "source": [
    "### Q1.\tWrite a Python program to find sum of elements in list?"
   ]
  },
  {
   "cell_type": "markdown",
   "id": "6345cf93",
   "metadata": {},
   "source": [
    "### Ans1."
   ]
  },
  {
   "cell_type": "code",
   "execution_count": 1,
   "id": "d5ae0098",
   "metadata": {},
   "outputs": [
    {
     "name": "stdout",
     "output_type": "stream",
     "text": [
      "The sum of the elements in the list is: 15\n"
     ]
    }
   ],
   "source": [
    "def sum_of_elements(lst):\n",
    "    \"\"\"\n",
    "    Calculate the sum of all elements in a list.\n",
    "    \n",
    "    Parameters:\n",
    "    lst (list of int or float): The list of numbers to sum up.\n",
    "    \n",
    "    Returns:\n",
    "    int or float: The sum of the elements in the list.\n",
    "    \"\"\"\n",
    "    return sum(lst)\n",
    "\n",
    "# Example usage\n",
    "numbers = [1, 2, 3, 4, 5]  \n",
    "\n",
    "# Calculate the sum of elements\n",
    "total_sum = sum_of_elements(numbers)\n",
    "\n",
    "\n",
    "print(f\"The sum of the elements in the list is: {total_sum}\")\n"
   ]
  },
  {
   "cell_type": "markdown",
   "id": "fb3e5b98",
   "metadata": {},
   "source": [
    "### Q2.\tWrite a Python program to  Multiply all numbers in the list?"
   ]
  },
  {
   "cell_type": "markdown",
   "id": "c6a43037",
   "metadata": {},
   "source": [
    "### Ans2."
   ]
  },
  {
   "cell_type": "code",
   "execution_count": 2,
   "id": "138dea25",
   "metadata": {},
   "outputs": [
    {
     "name": "stdout",
     "output_type": "stream",
     "text": [
      "The product of the elements in the list is: 1200000\n"
     ]
    }
   ],
   "source": [
    "def multiply_all_elements(lst):\n",
    "    \"\"\"\n",
    "    Multiply all numbers in a list.\n",
    "    \n",
    "    Parameters:\n",
    "    lst (list of int or float): The list of numbers to multiply.\n",
    "    \n",
    "    Returns:\n",
    "    int or float: The product of all elements in the list.\n",
    "    \"\"\"\n",
    "    product = 1\n",
    "    for number in lst:\n",
    "        product *= number\n",
    "    return product\n",
    "\n",
    "# Example usage\n",
    "numbers = [20, 30, 40, 50]  \n",
    "\n",
    "# Calculate the product of all elements\n",
    "total_product = multiply_all_elements(numbers)\n",
    "\n",
    "\n",
    "print(f\"The product of the elements in the list is: {total_product}\")\n"
   ]
  },
  {
   "cell_type": "markdown",
   "id": "96afab9a",
   "metadata": {},
   "source": [
    "### Q3.\tWrite a Python program to find smallest number in a list?"
   ]
  },
  {
   "cell_type": "markdown",
   "id": "67c23ec3",
   "metadata": {},
   "source": [
    "### Ans3."
   ]
  },
  {
   "cell_type": "code",
   "execution_count": 5,
   "id": "8742a591",
   "metadata": {},
   "outputs": [
    {
     "name": "stdout",
     "output_type": "stream",
     "text": [
      "The smallest number in the list is: -3\n"
     ]
    }
   ],
   "source": [
    "def find_smallest_number(lst):\n",
    "    \"\"\"\n",
    "    Find the smallest number in a list using the min() function.\n",
    "    \n",
    "    Parameters:\n",
    "    lst (list of int or float): The list of numbers to search.\n",
    "    \n",
    "    Returns:\n",
    "    int or float: The smallest number in the list.\n",
    "    \"\"\"\n",
    "    return min(lst)\n",
    "\n",
    "# Example usage\n",
    "numbers = [100, 55, 80, 2, -3]  \n",
    "\n",
    "# Find the smallest number\n",
    "smallest_number = find_smallest_number(numbers)\n",
    "\n",
    "\n",
    "print(f\"The smallest number in the list is: {smallest_number}\")\n"
   ]
  },
  {
   "cell_type": "markdown",
   "id": "325aa0b0",
   "metadata": {},
   "source": [
    "### Q4.\tWrite a Python program to find largest number in a list?"
   ]
  },
  {
   "cell_type": "markdown",
   "id": "bf03f14f",
   "metadata": {},
   "source": [
    "### Ans4."
   ]
  },
  {
   "cell_type": "code",
   "execution_count": 6,
   "id": "9840e737",
   "metadata": {},
   "outputs": [
    {
     "name": "stdout",
     "output_type": "stream",
     "text": [
      "The largest number in the list is: 11115\n"
     ]
    }
   ],
   "source": [
    "def find_largest_number(lst):\n",
    "    \"\"\"\n",
    "    Find the largest number in a list using the max() function.\n",
    "    \n",
    "    Parameters:\n",
    "    lst (list of int or float): The list of numbers to search.\n",
    "    \n",
    "    Returns:\n",
    "    int or float: The largest number in the list.\n",
    "    \"\"\"\n",
    "    return max(lst)\n",
    "\n",
    "# Example usage\n",
    "numbers = [100, -5, 8000, 220, 11115] \n",
    "\n",
    "# Find the largest number\n",
    "largest_number = find_largest_number(numbers)\n",
    "\n",
    "\n",
    "print(f\"The largest number in the list is: {largest_number}\")\n"
   ]
  },
  {
   "cell_type": "markdown",
   "id": "d16ffa8f",
   "metadata": {},
   "source": [
    "### Q5.\tWrite a Python program to find second largest number in a list?"
   ]
  },
  {
   "cell_type": "markdown",
   "id": "420acea6",
   "metadata": {},
   "source": [
    "### Ans5."
   ]
  },
  {
   "cell_type": "code",
   "execution_count": 7,
   "id": "66631b92",
   "metadata": {},
   "outputs": [
    {
     "name": "stdout",
     "output_type": "stream",
     "text": [
      "The second largest number in the list is: 20000\n"
     ]
    }
   ],
   "source": [
    "def find_second_largest_number(lst):\n",
    "    \"\"\"\n",
    "    Find the second largest number in a list by sorting.\n",
    "    \n",
    "    Parameters:\n",
    "    lst (list of int or float): The list of numbers to search.\n",
    "    \n",
    "    Returns:\n",
    "    int or float: The second largest number in the list.\n",
    "    \"\"\"\n",
    "    if len(lst) < 2:\n",
    "        raise ValueError(\"The list must contain at least two distinct elements.\")\n",
    "    \n",
    "    # Remove duplicates and sort the list in descending order\n",
    "    unique_sorted_list = sorted(set(lst), reverse=True)\n",
    "    \n",
    "    if len(unique_sorted_list) < 2:\n",
    "        raise ValueError(\"The list must contain at least two distinct elements.\")\n",
    "    \n",
    "    return unique_sorted_list[1]\n",
    "\n",
    "# Example usage\n",
    "numbers = [100, 500, 8000, 20000, 10005, 25250]  \n",
    "\n",
    "# Find the second largest number\n",
    "second_largest_number = find_second_largest_number(numbers)\n",
    "\n",
    "\n",
    "print(f\"The second largest number in the list is: {second_largest_number}\")\n"
   ]
  },
  {
   "cell_type": "markdown",
   "id": "ffbb118e",
   "metadata": {},
   "source": [
    "### Q6.\tWrite a Python program to find N largest elements from a list?"
   ]
  },
  {
   "cell_type": "markdown",
   "id": "46649bbb",
   "metadata": {},
   "source": [
    "### Ans6."
   ]
  },
  {
   "cell_type": "code",
   "execution_count": 8,
   "id": "7d1411b6",
   "metadata": {},
   "outputs": [
    {
     "name": "stdout",
     "output_type": "stream",
     "text": [
      "The 3 largest elements in the list are: [2000, 150, 145]\n"
     ]
    }
   ],
   "source": [
    "def find_n_largest_elements(lst, N):\n",
    "    \"\"\"\n",
    "    Find the N largest elements in a list by sorting.\n",
    "    \n",
    "    Parameters:\n",
    "    lst (list of int or float): The list of numbers to search.\n",
    "    N (int): The number of largest elements to find.\n",
    "    \n",
    "    Returns:\n",
    "    list of int or float: The N largest elements in the list.\n",
    "    \"\"\"\n",
    "    if N <= 0:\n",
    "        raise ValueError(\"N must be a positive integer.\")\n",
    "    if N > len(lst):\n",
    "        raise ValueError(\"N cannot be greater than the number of elements in the list.\")\n",
    "    \n",
    "    # Sort the list in descending order and return the first N elements\n",
    "    return sorted(lst, reverse=True)[:N]\n",
    "\n",
    "# Example usage\n",
    "numbers = [150, 25, 80, 2000, 145]  \n",
    "N = 3  # Number of largest elements to find\n",
    "\n",
    "# Find the N largest elements\n",
    "largest_elements = find_n_largest_elements(numbers, N)\n",
    "\n",
    "\n",
    "print(f\"The {N} largest elements in the list are: {largest_elements}\")\n"
   ]
  },
  {
   "cell_type": "markdown",
   "id": "f4525130",
   "metadata": {},
   "source": [
    "### Q7.\tWrite a Python program to print even numbers in a list?"
   ]
  },
  {
   "cell_type": "markdown",
   "id": "e62762ea",
   "metadata": {},
   "source": [
    "### Ans7."
   ]
  },
  {
   "cell_type": "code",
   "execution_count": 9,
   "id": "ad9b3504",
   "metadata": {},
   "outputs": [
    {
     "name": "stdout",
     "output_type": "stream",
     "text": [
      "Even numbers in the list are:\n",
      "100\n",
      "222\n",
      "404\n",
      "660\n"
     ]
    }
   ],
   "source": [
    "def print_even_numbers(lst):\n",
    "    \"\"\"\n",
    "    Print all even numbers in a list.\n",
    "    \n",
    "    Parameters:\n",
    "    lst (list of int): The list of numbers to search.\n",
    "    \"\"\"\n",
    "    # Iterate through the list\n",
    "    for number in lst:\n",
    "        # Check if the number is even\n",
    "        if number % 2 == 0:\n",
    "            print(number)\n",
    "\n",
    "# Example usage\n",
    "numbers = [100, 105, 222, 303, 404, 505, 660]  \n",
    "\n",
    "\n",
    "print(\"Even numbers in the list are:\")\n",
    "print_even_numbers(numbers)\n"
   ]
  },
  {
   "cell_type": "markdown",
   "id": "1f0c23c9",
   "metadata": {},
   "source": [
    "### Q8.\tWrite a Python program to print odd numbers in a List?"
   ]
  },
  {
   "cell_type": "markdown",
   "id": "04313163",
   "metadata": {},
   "source": [
    "### Ans8."
   ]
  },
  {
   "cell_type": "code",
   "execution_count": 10,
   "id": "1751a02d",
   "metadata": {},
   "outputs": [
    {
     "name": "stdout",
     "output_type": "stream",
     "text": [
      "Odd numbers in the list are:\n",
      "101\n",
      "221\n",
      "303\n",
      "555\n"
     ]
    }
   ],
   "source": [
    "def print_odd_numbers(lst):\n",
    "    \"\"\"\n",
    "    Print all odd numbers in a list.\n",
    "    \n",
    "    Parameters:\n",
    "    lst (list of int): The list of numbers to search.\n",
    "    \"\"\"\n",
    "    # Iterate through the list\n",
    "    for number in lst:\n",
    "        # Check if the number is odd\n",
    "        if number % 2 != 0:\n",
    "            print(number)\n",
    "\n",
    "# Example usage\n",
    "numbers = [101, 150, 221, 303, 454, 555, 620]  \n",
    "\n",
    "\n",
    "print(\"Odd numbers in the list are:\")\n",
    "print_odd_numbers(numbers)\n"
   ]
  },
  {
   "cell_type": "markdown",
   "id": "44301289",
   "metadata": {},
   "source": [
    "### Q9.\tWrite a Python program to Remove empty List from List?"
   ]
  },
  {
   "cell_type": "markdown",
   "id": "adcafb0a",
   "metadata": {},
   "source": [
    "### Ans9."
   ]
  },
  {
   "cell_type": "code",
   "execution_count": 11,
   "id": "a8a9be13",
   "metadata": {},
   "outputs": [
    {
     "name": "stdout",
     "output_type": "stream",
     "text": [
      "List after removing empty lists:\n",
      "[[10, 20, 30], [40, 50], [60, 70, 80]]\n"
     ]
    }
   ],
   "source": [
    "def remove_empty_lists(lst):\n",
    "    \"\"\"\n",
    "    Remove empty lists from a list of lists.\n",
    "    \n",
    "    Parameters:\n",
    "    lst (list of lists): The list containing lists to filter.\n",
    "    \n",
    "    Returns:\n",
    "    list of lists: The list with empty lists removed.\n",
    "    \"\"\"\n",
    "    return [sublist for sublist in lst if sublist]\n",
    "\n",
    "# Example usage\n",
    "list_of_lists = [[10, 20, 30], [], [40, 50], [], [60, 70, 80]]  \n",
    "\n",
    "# Remove empty lists\n",
    "filtered_list = remove_empty_lists(list_of_lists)\n",
    "\n",
    "\n",
    "print(\"List after removing empty lists:\")\n",
    "print(filtered_list)\n"
   ]
  },
  {
   "cell_type": "markdown",
   "id": "ffad70f7",
   "metadata": {},
   "source": [
    "### Q10.Write a Python program to Cloning or Copying a list?"
   ]
  },
  {
   "cell_type": "markdown",
   "id": "1433cd4b",
   "metadata": {},
   "source": [
    "### Ans10."
   ]
  },
  {
   "cell_type": "code",
   "execution_count": 12,
   "id": "a8fe883d",
   "metadata": {},
   "outputs": [
    {
     "name": "stdout",
     "output_type": "stream",
     "text": [
      "Original list: [10, 20, 30, 40, 50]\n",
      "Copied list: [10, 20, 30, 40, 50]\n"
     ]
    }
   ],
   "source": [
    "def clone_list(original_list):\n",
    "    \"\"\"\n",
    "    Clone or copy a list using the copy() method.\n",
    "    \n",
    "    Parameters:\n",
    "    original_list (list): The list to copy.\n",
    "    \n",
    "    Returns:\n",
    "    list: A new list that is a copy of the original list.\n",
    "    \"\"\"\n",
    "    return original_list.copy()\n",
    "\n",
    "# Example usage\n",
    "original_list = [10, 20, 30, 40, 50]\n",
    "copied_list = clone_list(original_list)\n",
    "\n",
    "\n",
    "print(\"Original list:\", original_list)\n",
    "print(\"Copied list:\", copied_list)\n"
   ]
  },
  {
   "cell_type": "markdown",
   "id": "e468458e",
   "metadata": {},
   "source": [
    "### Q11. Write a Python program to Count occurrences of an element in a list?"
   ]
  },
  {
   "cell_type": "markdown",
   "id": "965c2c6b",
   "metadata": {},
   "source": [
    "### Ans11."
   ]
  },
  {
   "cell_type": "code",
   "execution_count": 14,
   "id": "e0c6501f",
   "metadata": {},
   "outputs": [
    {
     "name": "stdout",
     "output_type": "stream",
     "text": [
      "The element 20 occurs 3 times in the list.\n"
     ]
    }
   ],
   "source": [
    "def count_occurrences(lst, element):\n",
    "    \"\"\"\n",
    "    Count the occurrences of an element in a list using the count() method.\n",
    "    \n",
    "    Parameters:\n",
    "    lst (list): The list to search.\n",
    "    element (any): The element whose occurrences need to be counted.\n",
    "    \n",
    "    Returns:\n",
    "    int: The number of occurrences of the element in the list.\n",
    "    \"\"\"\n",
    "    return lst.count(element)\n",
    "\n",
    "# Example usage\n",
    "numbers = [10, 20, 30, 20, 40, 20, 50]\n",
    "element_to_count = 20\n",
    "\n",
    "# Count occurrences\n",
    "occurrences = count_occurrences(numbers, element_to_count)\n",
    "\n",
    "\n",
    "print(f\"The element {element_to_count} occurs {occurrences} times in the list.\")\n"
   ]
  }
 ],
 "metadata": {
  "kernelspec": {
   "display_name": "Python 3 (ipykernel)",
   "language": "python",
   "name": "python3"
  },
  "language_info": {
   "codemirror_mode": {
    "name": "ipython",
    "version": 3
   },
   "file_extension": ".py",
   "mimetype": "text/x-python",
   "name": "python",
   "nbconvert_exporter": "python",
   "pygments_lexer": "ipython3",
   "version": "3.9.13"
  }
 },
 "nbformat": 4,
 "nbformat_minor": 5
}
