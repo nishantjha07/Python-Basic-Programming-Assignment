{
 "cells": [
  {
   "cell_type": "markdown",
   "id": "886d8f38",
   "metadata": {},
   "source": [
    "### Q1.\tWrite a Python program to check if the given number is a Disarium Number?"
   ]
  },
  {
   "cell_type": "markdown",
   "id": "fe45cbcb",
   "metadata": {},
   "source": [
    "### Ans1.\n",
    " Disarium number is a number that is equal to the sum of its digits each raised to the power of its position in the number. For example, 135 is a Disarium number because:\n",
    " \n",
    " 1   2   3\n",
    "1 + 3 + 5 = 1 + 9 + 125 = 135."
   ]
  },
  {
   "cell_type": "code",
   "execution_count": 9,
   "id": "986838ef",
   "metadata": {},
   "outputs": [
    {
     "name": "stdout",
     "output_type": "stream",
     "text": [
      "175 is a Disarium number.\n"
     ]
    }
   ],
   "source": [
    "def is_disarium_number(number):\n",
    "    \"\"\"\n",
    "    Check if a given number is a Disarium number.\n",
    "    \n",
    "    Parameters:\n",
    "    number (int): The number to be checked.\n",
    "    \n",
    "    Returns:\n",
    "    bool: True if the number is a Disarium number, False otherwise.\n",
    "    \"\"\"\n",
    "    # Convert number to string to iterate over digits and their positions\n",
    "    num_str = str(number)\n",
    "    length = len(num_str)\n",
    "    \n",
    "    # Calculate the sum of digits each raised to the power of their position\n",
    "    sum_of_powers = sum(int(digit) ** (index + 1) for index, digit in enumerate(num_str))\n",
    "    \n",
    "    # Check if the sum equals the original number\n",
    "    return sum_of_powers == number\n",
    "\n",
    "# Example usage\n",
    "number = 175\n",
    "\n",
    "# Check if the number is a Disarium number\n",
    "if is_disarium_number(number):\n",
    "    print(f\"{number} is a Disarium number.\")\n",
    "else:\n",
    "    print(f\"{number} is not a Disarium number.\")\n"
   ]
  },
  {
   "cell_type": "markdown",
   "id": "af696fd4",
   "metadata": {},
   "source": [
    "### Q2.\tWrite a Python program to print all disarium numbers between 1 to 100?"
   ]
  },
  {
   "cell_type": "markdown",
   "id": "06349a2c",
   "metadata": {},
   "source": [
    "### Ans2."
   ]
  },
  {
   "cell_type": "code",
   "execution_count": 10,
   "id": "3246c0eb",
   "metadata": {},
   "outputs": [
    {
     "name": "stdout",
     "output_type": "stream",
     "text": [
      "Disarium numbers between 1 and 100: [1, 2, 3, 4, 5, 6, 7, 8, 9, 89]\n"
     ]
    }
   ],
   "source": [
    "def is_disarium_number(number):\n",
    "    \"\"\"\n",
    "    Check if a given number is a Disarium number.\n",
    "    \n",
    "    Parameters:\n",
    "    number (int): The number to be checked.\n",
    "    \n",
    "    Returns:\n",
    "    bool: True if the number is a Disarium number, False otherwise.\n",
    "    \"\"\"\n",
    "    # Convert number to string to iterate over digits and their positions\n",
    "    num_str = str(number)\n",
    "    length = len(num_str)\n",
    "    \n",
    "    # Calculate the sum of digits each raised to the power of their position\n",
    "    sum_of_powers = sum(int(digit) ** (index + 1) for index, digit in enumerate(num_str))\n",
    "    \n",
    "    # Check if the sum equals the original number\n",
    "    return sum_of_powers == number\n",
    "\n",
    "def find_disarium_numbers(start, end):\n",
    "    \"\"\"\n",
    "    Find all Disarium numbers in a given range.\n",
    "    \n",
    "    Parameters:\n",
    "    start (int): The start of the range (inclusive).\n",
    "    end (int): The end of the range (inclusive).\n",
    "    \n",
    "    Returns:\n",
    "    list of int: List of Disarium numbers in the range.\n",
    "    \"\"\"\n",
    "    return [number for number in range(start, end + 1) if is_disarium_number(number)]\n",
    "\n",
    "# Define the range\n",
    "start = 1\n",
    "end = 100\n",
    "\n",
    "# Find Disarium numbers in the specified range\n",
    "disarium_numbers = find_disarium_numbers(start, end)\n",
    "\n",
    "\n",
    "print(f\"Disarium numbers between {start} and {end}: {disarium_numbers}\")\n"
   ]
  },
  {
   "cell_type": "markdown",
   "id": "1cb21b68",
   "metadata": {},
   "source": [
    "### Q3.\tWrite a Python program to check if the given number is Happy Number?"
   ]
  },
  {
   "cell_type": "markdown",
   "id": "c0e357f1",
   "metadata": {},
   "source": [
    "### Ans3.\n",
    "A happy number is a number which eventually reaches 1 when replaced repeatedly by the sum of the square of its digits. If a number does not reach 1, it will enter a cycle of numbers that never reaches 1."
   ]
  },
  {
   "cell_type": "code",
   "execution_count": 13,
   "id": "d9dcae8e",
   "metadata": {},
   "outputs": [
    {
     "name": "stdout",
     "output_type": "stream",
     "text": [
      "100 is a happy number.\n"
     ]
    }
   ],
   "source": [
    "def is_happy_number(number):\n",
    "    \"\"\"\n",
    "    Check if the given number is a happy number.\n",
    "    \n",
    "    Parameters:\n",
    "    number (int): The number to be checked.\n",
    "    \n",
    "    Returns:\n",
    "    bool: True if the number is a happy number, False otherwise.\n",
    "    \"\"\"\n",
    "    def get_sum_of_squares(n):\n",
    "        \"\"\" Helper function to calculate the sum of squares of digits \"\"\"\n",
    "        return sum(int(digit) ** 2 for digit in str(n))\n",
    "\n",
    "    seen = set()  # To detect cycles\n",
    "\n",
    "    while number != 1 and number not in seen:\n",
    "        seen.add(number)\n",
    "        number = get_sum_of_squares(number)\n",
    "    \n",
    "    return number == 1\n",
    "\n",
    "# Example usage\n",
    "number = 100  \n",
    "\n",
    "# Check if the number is a happy number\n",
    "if is_happy_number(number):\n",
    "    print(f\"{number} is a happy number.\")\n",
    "else:\n",
    "    print(f\"{number} is not a happy number.\")\n"
   ]
  },
  {
   "cell_type": "markdown",
   "id": "dceb32b3",
   "metadata": {},
   "source": [
    "### Q4.\tWrite a Python program to print all happy numbers between 1 and 100?"
   ]
  },
  {
   "cell_type": "markdown",
   "id": "8480b8f8",
   "metadata": {},
   "source": [
    "### Ans4."
   ]
  },
  {
   "cell_type": "code",
   "execution_count": 14,
   "id": "881fcbf0",
   "metadata": {},
   "outputs": [
    {
     "name": "stdout",
     "output_type": "stream",
     "text": [
      "Happy numbers between 1 and 100: [1, 7, 10, 13, 19, 23, 28, 31, 32, 44, 49, 68, 70, 79, 82, 86, 91, 94, 97, 100]\n"
     ]
    }
   ],
   "source": [
    "def is_happy_number(number):\n",
    "    \"\"\"\n",
    "    Check if the given number is a happy number.\n",
    "    \n",
    "    Parameters:\n",
    "    number (int): The number to be checked.\n",
    "    \n",
    "    Returns:\n",
    "    bool: True if the number is a happy number, False otherwise.\n",
    "    \"\"\"\n",
    "    def get_sum_of_squares(n):\n",
    "        \"\"\" Helper function to calculate the sum of squares of digits \"\"\"\n",
    "        return sum(int(digit) ** 2 for digit in str(n))\n",
    "\n",
    "    seen = set()  # To detect cycles\n",
    "\n",
    "    while number != 1 and number not in seen:\n",
    "        seen.add(number)\n",
    "        number = get_sum_of_squares(number)\n",
    "    \n",
    "    return number == 1\n",
    "\n",
    "def find_happy_numbers(start, end):\n",
    "    \"\"\"\n",
    "    Find all happy numbers in a given range.\n",
    "    \n",
    "    Parameters:\n",
    "    start (int): The start of the range (inclusive).\n",
    "    end (int): The end of the range (inclusive).\n",
    "    \n",
    "    Returns:\n",
    "    list of int: List of happy numbers in the range.\n",
    "    \"\"\"\n",
    "    return [number for number in range(start, end + 1) if is_happy_number(number)]\n",
    "\n",
    "# Define the range\n",
    "start = 1\n",
    "end = 100\n",
    "\n",
    "# Find happy numbers in the specified range\n",
    "happy_numbers = find_happy_numbers(start, end)\n",
    "\n",
    "\n",
    "print(f\"Happy numbers between {start} and {end}: {happy_numbers}\")\n"
   ]
  },
  {
   "cell_type": "markdown",
   "id": "384ea753",
   "metadata": {},
   "source": [
    "### Q5.\tWrite a Python program to determine whether the given number is a Harshad Number?"
   ]
  },
  {
   "cell_type": "markdown",
   "id": "b086d580",
   "metadata": {},
   "source": [
    "### Ans5.\n",
    "A Harshad number (also known as a Niven number) is an integer that is divisible by the sum of its digits. For example, 18 is a Harshad number because:\n",
    "\n",
    "Sum of the digits : 1 + 8 = 9\n",
    "\n",
    "18 is divisible by 9 : 18 /9 = 2"
   ]
  },
  {
   "cell_type": "code",
   "execution_count": 15,
   "id": "b308e0d7",
   "metadata": {},
   "outputs": [
    {
     "name": "stdout",
     "output_type": "stream",
     "text": [
      "30 is a Harshad number.\n"
     ]
    }
   ],
   "source": [
    "def is_harshad_number(number):\n",
    "    \"\"\"\n",
    "    Check if the given number is a Harshad number.\n",
    "    \n",
    "    Parameters:\n",
    "    number (int): The number to be checked.\n",
    "    \n",
    "    Returns:\n",
    "    bool: True if the number is a Harshad number, False otherwise.\n",
    "    \"\"\"\n",
    "    def sum_of_digits(n):\n",
    "        \"\"\" Helper function to calculate the sum of digits \"\"\"\n",
    "        return sum(int(digit) for digit in str(n))\n",
    "    \n",
    "    digit_sum = sum_of_digits(number)\n",
    "    \n",
    "    # Check if the number is divisible by the sum of its digits\n",
    "    return number % digit_sum == 0\n",
    "\n",
    "# Example usage\n",
    "number = 30  # Change this to test other numbers\n",
    "\n",
    "# Check if the number is a Harshad number\n",
    "if is_harshad_number(number):\n",
    "    print(f\"{number} is a Harshad number.\")\n",
    "else:\n",
    "    print(f\"{number} is not a Harshad number.\")\n"
   ]
  },
  {
   "cell_type": "markdown",
   "id": "2e5fa309",
   "metadata": {},
   "source": [
    "### Q6.\tWrite a Python program to print all pronic numbers between 1 and 100?"
   ]
  },
  {
   "cell_type": "markdown",
   "id": "186d8289",
   "metadata": {},
   "source": [
    "### Ans6."
   ]
  },
  {
   "cell_type": "code",
   "execution_count": 18,
   "id": "2d738b17",
   "metadata": {},
   "outputs": [
    {
     "name": "stdout",
     "output_type": "stream",
     "text": [
      "Pronic numbers between 1 and 100: [2, 6, 12, 20, 30, 42, 56, 72, 90]\n"
     ]
    }
   ],
   "source": [
    "def find_pronic_numbers(start, end):\n",
    "    \"\"\"\n",
    "    Find all pronic numbers in a given range.\n",
    "    \n",
    "    Parameters:\n",
    "    start (int): The start of the range (inclusive).\n",
    "    end (int): The end of the range (inclusive).\n",
    "    \n",
    "    Returns:\n",
    "    list of int: List of pronic numbers in the range.\n",
    "    \"\"\"\n",
    "    pronic_numbers = []\n",
    "    \n",
    "    # Start with the smallest integer\n",
    "    n = 0\n",
    "    \n",
    "    # Generate pronic numbers\n",
    "    while True:\n",
    "        pronic_number = n * (n + 1)\n",
    "        if pronic_number > end:\n",
    "            break\n",
    "        if start <= pronic_number <= end:\n",
    "            pronic_numbers.append(pronic_number)\n",
    "        n += 1\n",
    "    \n",
    "    return pronic_numbers\n",
    "\n",
    "# Define the range\n",
    "start = 1\n",
    "end = 100\n",
    "\n",
    "# Find pronic numbers in the specified range\n",
    "pronic_numbers = find_pronic_numbers(start, end)\n",
    "\n",
    "\n",
    "print(f\"Pronic numbers between {start} and {end}: {pronic_numbers}\")\n"
   ]
  }
 ],
 "metadata": {
  "kernelspec": {
   "display_name": "Python 3 (ipykernel)",
   "language": "python",
   "name": "python3"
  },
  "language_info": {
   "codemirror_mode": {
    "name": "ipython",
    "version": 3
   },
   "file_extension": ".py",
   "mimetype": "text/x-python",
   "name": "python",
   "nbconvert_exporter": "python",
   "pygments_lexer": "ipython3",
   "version": "3.9.13"
  }
 },
 "nbformat": 4,
 "nbformat_minor": 5
}
