{
 "cells": [
  {
   "cell_type": "markdown",
   "id": "10502f2c",
   "metadata": {},
   "source": [
    "### Q1.\tWrite a Python Program to find sum of array?"
   ]
  },
  {
   "cell_type": "markdown",
   "id": "9421d585",
   "metadata": {},
   "source": [
    "### Ans1."
   ]
  },
  {
   "cell_type": "code",
   "execution_count": 1,
   "id": "8d75a967",
   "metadata": {},
   "outputs": [
    {
     "name": "stdout",
     "output_type": "stream",
     "text": [
      "The sum of the array is: 150\n"
     ]
    }
   ],
   "source": [
    "# Define the array (list) of numbers\n",
    "array = [10, 20, 30, 40, 50]\n",
    "\n",
    "# Calculate the sum using the built-in sum() function\n",
    "total_sum = sum(array)\n",
    "\n",
    "\n",
    "print(\"The sum of the array is:\", total_sum)\n"
   ]
  },
  {
   "cell_type": "markdown",
   "id": "6cd727a0",
   "metadata": {},
   "source": [
    "### Q2.\tWrite a Python Program to find largest element in an array?"
   ]
  },
  {
   "cell_type": "markdown",
   "id": "cc8f7a84",
   "metadata": {},
   "source": [
    "### Ans2."
   ]
  },
  {
   "cell_type": "code",
   "execution_count": 2,
   "id": "683219ee",
   "metadata": {},
   "outputs": [
    {
     "name": "stdout",
     "output_type": "stream",
     "text": [
      "The largest element in the array is: 999\n"
     ]
    }
   ],
   "source": [
    "# Define the array (list) of numbers\n",
    "array = [10, 200, 4, 405, 999]\n",
    "\n",
    "# Find the largest element using the built-in max() function\n",
    "largest_element = max(array)\n",
    "\n",
    "\n",
    "print(\"The largest element in the array is:\", largest_element)\n"
   ]
  },
  {
   "cell_type": "markdown",
   "id": "efe05878",
   "metadata": {},
   "source": [
    "### Q3.\tWrite a Python Program for array rotation?"
   ]
  },
  {
   "cell_type": "markdown",
   "id": "4df64e72",
   "metadata": {},
   "source": [
    "### Ans3."
   ]
  },
  {
   "cell_type": "code",
   "execution_count": 3,
   "id": "fe146e23",
   "metadata": {},
   "outputs": [
    {
     "name": "stdout",
     "output_type": "stream",
     "text": [
      "Array rotated to the left by 2 positions: [30, 40, 50, 10, 20]\n",
      "Array rotated to the right by 2 positions: [40, 50, 10, 20, 30]\n"
     ]
    }
   ],
   "source": [
    "def rotate_left(arr, d):\n",
    "    \"\"\"\n",
    "    Rotate the array arr to the left by d positions.\n",
    "    \"\"\"\n",
    "    n = len(arr)\n",
    "    d = d % n  # Ensure d is within the bounds of the array length\n",
    "    return arr[d:] + arr[:d]\n",
    "\n",
    "def rotate_right(arr, d):\n",
    "    \"\"\"\n",
    "    Rotate the array arr to the right by d positions.\n",
    "    \"\"\"\n",
    "    n = len(arr)\n",
    "    d = d % n  # Ensure d is within the bounds of the array length\n",
    "    return arr[-d:] + arr[:-d]\n",
    "\n",
    "# Example usage\n",
    "array = [10, 20, 30, 40, 50]\n",
    "\n",
    "# Number of positions to rotate\n",
    "d = 2\n",
    "\n",
    "# Rotate array to the left\n",
    "left_rotated_array = rotate_left(array, d)\n",
    "print(\"Array rotated to the left by\", d, \"positions:\", left_rotated_array)\n",
    "\n",
    "# Rotate array to the right\n",
    "right_rotated_array = rotate_right(array, d)\n",
    "print(\"Array rotated to the right by\", d, \"positions:\", right_rotated_array)\n"
   ]
  },
  {
   "cell_type": "markdown",
   "id": "cc68e04b",
   "metadata": {},
   "source": [
    "### Q4.\tWrite a Python Program to Split the array and add the first part to the end?"
   ]
  },
  {
   "cell_type": "markdown",
   "id": "392b4773",
   "metadata": {},
   "source": [
    "### Ans4."
   ]
  },
  {
   "cell_type": "code",
   "execution_count": 4,
   "id": "1337fdd8",
   "metadata": {},
   "outputs": [
    {
     "name": "stdout",
     "output_type": "stream",
     "text": [
      "Array after moving the first part to the end: [30, 40, 50, 10, 20]\n"
     ]
    }
   ],
   "source": [
    "def split_and_move(arr, split_index):\n",
    "    \"\"\"\n",
    "    Split the array arr at split_index and move the first part to the end.\n",
    "    \n",
    "    Parameters:\n",
    "    arr (list): The array to be split.\n",
    "    split_index (int): The index at which to split the array.\n",
    "    \n",
    "    Returns:\n",
    "    list: The modified array with the first part moved to the end.\n",
    "    \"\"\"\n",
    "    n = len(arr)\n",
    "    split_index = split_index % n  # Ensure split_index is within the bounds of the array length\n",
    "    return arr[split_index:] + arr[:split_index]\n",
    "\n",
    "# Example usage\n",
    "array = [10, 20, 30, 40, 50]\n",
    "\n",
    "# Index at which to split the array\n",
    "split_index = 2\n",
    "\n",
    "# Get the modified array\n",
    "modified_array = split_and_move(array, split_index)\n",
    "print(\"Array after moving the first part to the end:\", modified_array)\n"
   ]
  },
  {
   "cell_type": "markdown",
   "id": "01cf27e5",
   "metadata": {},
   "source": [
    "### Q5. Write a Python Program to check if given array is Monotonic?"
   ]
  },
  {
   "cell_type": "markdown",
   "id": "2f153399",
   "metadata": {},
   "source": [
    "### Ans5."
   ]
  },
  {
   "cell_type": "code",
   "execution_count": 5,
   "id": "5d67c3b4",
   "metadata": {},
   "outputs": [
    {
     "name": "stdout",
     "output_type": "stream",
     "text": [
      "The array is monotonic.\n"
     ]
    }
   ],
   "source": [
    "def is_monotonic(arr):\n",
    "    \"\"\"\n",
    "    Check if the array arr is monotonic.\n",
    "    \n",
    "    Parameters:\n",
    "    arr (list): The array to be checked.\n",
    "    \n",
    "    Returns:\n",
    "    bool: True if the array is monotonic, False otherwise.\n",
    "    \"\"\"\n",
    "    increasing = decreasing = True\n",
    "    \n",
    "    # Check if the array is increasing\n",
    "    for i in range(1, len(arr)):\n",
    "        if arr[i] > arr[i - 1]:\n",
    "            decreasing = False\n",
    "        elif arr[i] < arr[i - 1]:\n",
    "            increasing = False\n",
    "    \n",
    "    return increasing or decreasing\n",
    "\n",
    "# Example usage\n",
    "array = [10, 20, 20, 30]  \n",
    "\n",
    "# Check if the array is monotonic\n",
    "result = is_monotonic(array)\n",
    "if result:\n",
    "    print(\"The array is monotonic.\")\n",
    "else:\n",
    "    print(\"The array is not monotonic.\")\n"
   ]
  },
  {
   "cell_type": "code",
   "execution_count": null,
   "id": "37fc3ec0",
   "metadata": {},
   "outputs": [],
   "source": []
  }
 ],
 "metadata": {
  "kernelspec": {
   "display_name": "Python 3 (ipykernel)",
   "language": "python",
   "name": "python3"
  },
  "language_info": {
   "codemirror_mode": {
    "name": "ipython",
    "version": 3
   },
   "file_extension": ".py",
   "mimetype": "text/x-python",
   "name": "python",
   "nbconvert_exporter": "python",
   "pygments_lexer": "ipython3",
   "version": "3.9.13"
  }
 },
 "nbformat": 4,
 "nbformat_minor": 5
}
