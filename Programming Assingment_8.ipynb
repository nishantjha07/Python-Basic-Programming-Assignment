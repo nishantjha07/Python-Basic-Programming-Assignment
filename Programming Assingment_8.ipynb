{
 "cells": [
  {
   "cell_type": "markdown",
   "id": "85acc9fb",
   "metadata": {},
   "source": [
    "### Q1.\tWrite a Python Program to Add Two Matrices?"
   ]
  },
  {
   "cell_type": "markdown",
   "id": "515e3545",
   "metadata": {},
   "source": [
    "### Ans1."
   ]
  },
  {
   "cell_type": "code",
   "execution_count": 6,
   "id": "57d8e6ee",
   "metadata": {},
   "outputs": [
    {
     "name": "stdout",
     "output_type": "stream",
     "text": [
      "Resulting Matrix after addition:\n",
      "[80, 100, 120]\n",
      "[140, 160, 180]\n"
     ]
    }
   ],
   "source": [
    "def add_matrices(matrix1, matrix2):\n",
    "    \"\"\"\n",
    "    Add two matrices of the same dimensions.\n",
    "    \n",
    "    Parameters:\n",
    "    matrix1 (list of list of int): The first matrix.\n",
    "    matrix2 (list of list of int): The second matrix.\n",
    "    \n",
    "    Returns:\n",
    "    list of list of int: The resulting matrix after addition.\n",
    "    \"\"\"\n",
    "    # Get the number of rows and columns\n",
    "    rows = len(matrix1)\n",
    "    cols = len(matrix1[0])\n",
    "    \n",
    "    # Initialize the result matrix with zeros\n",
    "    result = [[0] * cols for _ in range(rows)]\n",
    "    \n",
    "    # Add corresponding elements from both matrices\n",
    "    for i in range(rows):\n",
    "        for j in range(cols):\n",
    "            result[i][j] = matrix1[i][j] + matrix2[i][j]\n",
    "    \n",
    "    return result\n",
    "\n",
    "# Example usage\n",
    "matrix1 = [\n",
    "    [10, 20, 30],\n",
    "    [40, 50, 60]\n",
    "]\n",
    "\n",
    "matrix2 = [\n",
    "    [70, 80, 90],\n",
    "    [100, 110, 120]\n",
    "]\n",
    "\n",
    "# Add the matrices\n",
    "result_matrix = add_matrices(matrix1, matrix2)\n",
    "\n",
    "\n",
    "print(\"Resulting Matrix after addition:\")\n",
    "for row in result_matrix:\n",
    "    print(row)\n"
   ]
  },
  {
   "cell_type": "markdown",
   "id": "3cc15681",
   "metadata": {},
   "source": [
    "### Q2.\tWrite a Python Program to Multiply Two Matrices?"
   ]
  },
  {
   "cell_type": "markdown",
   "id": "d681e365",
   "metadata": {},
   "source": [
    "### Ans2."
   ]
  },
  {
   "cell_type": "code",
   "execution_count": 7,
   "id": "5e5875b7",
   "metadata": {},
   "outputs": [
    {
     "name": "stdout",
     "output_type": "stream",
     "text": [
      "Resulting Matrix after multiplication:\n",
      "[5800, 6400]\n",
      "[13900, 15400]\n"
     ]
    }
   ],
   "source": [
    "def multiply_matrices(matrix1, matrix2):\n",
    "    \"\"\"\n",
    "    Multiply two matrices.\n",
    "    \n",
    "    Parameters:\n",
    "    matrix1 (list of list of int): The first matrix.\n",
    "    matrix2 (list of list of int): The second matrix.\n",
    "    \n",
    "    Returns:\n",
    "    list of list of int: The resulting matrix after multiplication.\n",
    "    \"\"\"\n",
    "    # Get dimensions of the matrices\n",
    "    rows1 = len(matrix1)\n",
    "    cols1 = len(matrix1[0])\n",
    "    rows2 = len(matrix2)\n",
    "    cols2 = len(matrix2[0])\n",
    "    \n",
    "    # Check if multiplication is possible\n",
    "    if cols1 != rows2:\n",
    "        raise ValueError(\"Number of columns in matrix1 must be equal to number of rows in matrix2\")\n",
    "    \n",
    "    # Initialize the result matrix with zeros\n",
    "    result = [[0] * cols2 for _ in range(rows1)]\n",
    "    \n",
    "    # Perform matrix multiplication\n",
    "    for i in range(rows1):\n",
    "        for j in range(cols2):\n",
    "            for k in range(cols1):\n",
    "                result[i][j] += matrix1[i][k] * matrix2[k][j]\n",
    "    \n",
    "    return result\n",
    "\n",
    "# Example usage\n",
    "matrix1 = [\n",
    "    [10, 20, 30],\n",
    "    [40, 50, 60]\n",
    "]\n",
    "\n",
    "matrix2 = [\n",
    "    [70, 80],\n",
    "    [90, 100],\n",
    "    [110, 120]\n",
    "]\n",
    "\n",
    "# Multiply the matrices\n",
    "result_matrix = multiply_matrices(matrix1, matrix2)\n",
    "\n",
    "print(\"Resulting Matrix after multiplication:\")\n",
    "for row in result_matrix:\n",
    "    print(row)\n"
   ]
  },
  {
   "cell_type": "markdown",
   "id": "0cf7568c",
   "metadata": {},
   "source": [
    "### Q3.\tWrite a Python Program to Transpose a Matrix?"
   ]
  },
  {
   "cell_type": "markdown",
   "id": "38ef1817",
   "metadata": {},
   "source": [
    "### Ans3."
   ]
  },
  {
   "cell_type": "code",
   "execution_count": 8,
   "id": "f4a35a67",
   "metadata": {},
   "outputs": [
    {
     "name": "stdout",
     "output_type": "stream",
     "text": [
      "Transposed Matrix:\n",
      "[100, 400, 700]\n",
      "[200, 500, 800]\n",
      "[300, 600, 900]\n"
     ]
    }
   ],
   "source": [
    "def transpose_matrix(matrix):\n",
    "    \"\"\"\n",
    "    Transpose a matrix.\n",
    "    \n",
    "    Parameters:\n",
    "    matrix (list of list of int): The matrix to be transposed.\n",
    "    \n",
    "    Returns:\n",
    "    list of list of int: The transposed matrix.\n",
    "    \"\"\"\n",
    "    # Get the number of rows and columns\n",
    "    rows = len(matrix)\n",
    "    cols = len(matrix[0])\n",
    "    \n",
    "    # Initialize the transposed matrix with zeros\n",
    "    transposed = [[0] * rows for _ in range(cols)]\n",
    "    \n",
    "    # Populate the transposed matrix\n",
    "    for i in range(rows):\n",
    "        for j in range(cols):\n",
    "            transposed[j][i] = matrix[i][j]\n",
    "    \n",
    "    return transposed\n",
    "\n",
    "# Example usage\n",
    "matrix = [\n",
    "    [100, 200, 300],\n",
    "    [400, 500, 600],\n",
    "    [700, 800, 900]\n",
    "]\n",
    "\n",
    "# Transpose the matrix\n",
    "transposed_matrix = transpose_matrix(matrix)\n",
    "\n",
    "\n",
    "print(\"Transposed Matrix:\")\n",
    "for row in transposed_matrix:\n",
    "    print(row)\n"
   ]
  },
  {
   "cell_type": "markdown",
   "id": "880efba4",
   "metadata": {},
   "source": [
    "### Q4.\tWrite a Python Program to Sort Words in Alphabetic Order?"
   ]
  },
  {
   "cell_type": "markdown",
   "id": "b0e4a679",
   "metadata": {},
   "source": [
    "### Ans4."
   ]
  },
  {
   "cell_type": "code",
   "execution_count": 9,
   "id": "db991176",
   "metadata": {},
   "outputs": [
    {
     "name": "stdout",
     "output_type": "stream",
     "text": [
      "Words in alphabetical order:\n",
      "I'm N.K.J. are hello how u?\n"
     ]
    }
   ],
   "source": [
    "def sort_words(words):\n",
    "    \"\"\"\n",
    "    Sort a list of words in alphabetical order.\n",
    "    \n",
    "    Parameters:\n",
    "    words (list of str): The list of words to be sorted.\n",
    "    \n",
    "    Returns:\n",
    "    list of str: The sorted list of words.\n",
    "    \"\"\"\n",
    "    # Sort the list of words in alphabetical order\n",
    "    sorted_words = sorted(words)\n",
    "    return sorted_words\n",
    "\n",
    "# Example usage\n",
    "sentence = \"hello I'm N.K.J. how are u?\"\n",
    "words = sentence.split()  # Split the sentence into words\n",
    "\n",
    "# Sort the words\n",
    "sorted_words = sort_words(words)\n",
    "\n",
    "\n",
    "print(\"Words in alphabetical order:\")\n",
    "print(' '.join(sorted_words))\n"
   ]
  },
  {
   "cell_type": "markdown",
   "id": "71eed6f0",
   "metadata": {},
   "source": [
    "### Q5.\tWrite a Python Program to Remove Punctuation From a String?"
   ]
  },
  {
   "cell_type": "markdown",
   "id": "9e7f8ada",
   "metadata": {},
   "source": [
    "### Ans5."
   ]
  },
  {
   "cell_type": "code",
   "execution_count": 10,
   "id": "7c5bc819",
   "metadata": {},
   "outputs": [
    {
     "name": "stdout",
     "output_type": "stream",
     "text": [
      "Original string: Hello, delhi! This is N.K.J. string with punctuation.\n",
      "String without punctuation: Hello delhi This is NKJ string with punctuation\n"
     ]
    }
   ],
   "source": [
    "import string\n",
    "\n",
    "def remove_punctuation(text):\n",
    "    \"\"\"\n",
    "    Remove punctuation from a given string.\n",
    "    \n",
    "    Parameters:\n",
    "    text (str): The input string from which punctuation will be removed.\n",
    "    \n",
    "    Returns:\n",
    "    str: The string with all punctuation removed.\n",
    "    \"\"\"\n",
    "    # Create a translation table that maps each punctuation character to None\n",
    "    translator = str.maketrans('', '', string.punctuation)\n",
    "    \n",
    "    # Use the translation table to remove punctuation\n",
    "    return text.translate(translator)\n",
    "\n",
    "# Example usage\n",
    "input_string = \"Hello, delhi! This is N.K.J. string with punctuation.\"\n",
    "clean_string = remove_punctuation(input_string)\n",
    "\n",
    "print(\"Original string:\", input_string)\n",
    "print(\"String without punctuation:\", clean_string)\n"
   ]
  }
 ],
 "metadata": {
  "kernelspec": {
   "display_name": "Python 3 (ipykernel)",
   "language": "python",
   "name": "python3"
  },
  "language_info": {
   "codemirror_mode": {
    "name": "ipython",
    "version": 3
   },
   "file_extension": ".py",
   "mimetype": "text/x-python",
   "name": "python",
   "nbconvert_exporter": "python",
   "pygments_lexer": "ipython3",
   "version": "3.9.13"
  }
 },
 "nbformat": 4,
 "nbformat_minor": 5
}
