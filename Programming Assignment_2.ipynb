{
 "cells": [
  {
   "cell_type": "markdown",
   "id": "9313dbaf",
   "metadata": {},
   "source": [
    "### Q1. Write a Python program to convert kilometers to miles?\n"
   ]
  },
  {
   "cell_type": "markdown",
   "id": "b9d36634",
   "metadata": {},
   "source": [
    "### Ans1."
   ]
  },
  {
   "cell_type": "code",
   "execution_count": 1,
   "id": "2034c1cd",
   "metadata": {},
   "outputs": [
    {
     "name": "stdout",
     "output_type": "stream",
     "text": [
      "enter kilometers: 100\n",
      "miles = 62.137100000000004\n"
     ]
    }
   ],
   "source": [
    "km = float(input('enter kilometers: '))\n",
    "miles = km*0.621371\n",
    "print('miles =', miles)"
   ]
  },
  {
   "cell_type": "markdown",
   "id": "aa01c26e",
   "metadata": {},
   "source": [
    "### Q2. Write a Python program to convert Celsius to Fahrenheit?"
   ]
  },
  {
   "cell_type": "markdown",
   "id": "ea492c5e",
   "metadata": {},
   "source": [
    "### Ans2."
   ]
  },
  {
   "cell_type": "code",
   "execution_count": 2,
   "id": "ce612287",
   "metadata": {},
   "outputs": [
    {
     "name": "stdout",
     "output_type": "stream",
     "text": [
      "Enter the temperature in celsius : 48\n",
      " 48.00 C = 118.40 F \n"
     ]
    }
   ],
   "source": [
    "celsius = float(input(\"Enter the temperature in celsius : \"))\n",
    "fahrenheit = (celsius * 1.8) + 32\n",
    "print(\" %.2f C = %.2f F \" %(celsius, fahrenheit))"
   ]
  },
  {
   "cell_type": "markdown",
   "id": "f6827dd3",
   "metadata": {},
   "source": [
    "### Q3. Write a Python program to display calendar?\n"
   ]
  },
  {
   "cell_type": "markdown",
   "id": "a58e96f2",
   "metadata": {},
   "source": [
    "### Ans3."
   ]
  },
  {
   "cell_type": "code",
   "execution_count": 3,
   "id": "7dd4103a",
   "metadata": {},
   "outputs": [
    {
     "name": "stdout",
     "output_type": "stream",
     "text": [
      "Enter the year :2025\n",
      "Enter the month :11\n",
      "   November 2025\n",
      "Mo Tu We Th Fr Sa Su\n",
      "                1  2\n",
      " 3  4  5  6  7  8  9\n",
      "10 11 12 13 14 15 16\n",
      "17 18 19 20 21 22 23\n",
      "24 25 26 27 28 29 30\n",
      "\n"
     ]
    }
   ],
   "source": [
    "import calendar\n",
    "year = int(input(\"Enter the year :\"))\n",
    "month = int(input(\"Enter the month :\"))\n",
    "mycal = calendar.month(year,month)\n",
    "print(mycal)"
   ]
  },
  {
   "cell_type": "markdown",
   "id": "5c341470",
   "metadata": {},
   "source": [
    "### Q4. Write a Python program to solve quadratic equation?\n"
   ]
  },
  {
   "cell_type": "markdown",
   "id": "7c672deb",
   "metadata": {},
   "source": [
    "### Ans4."
   ]
  },
  {
   "cell_type": "code",
   "execution_count": 4,
   "id": "e501ec67",
   "metadata": {},
   "outputs": [
    {
     "name": "stdout",
     "output_type": "stream",
     "text": [
      "a:4\n",
      "b:8\n",
      "c:12\n",
      "no roots, delta < 0\n"
     ]
    }
   ],
   "source": [
    "import math\n",
    "a = float(input(\"a:\"))\n",
    "b = float(input(\"b:\"))\n",
    "c = float(input(\"c:\"))\n",
    "delta = math.pow(b,2)-(4*a*c)\n",
    "if delta >0:\n",
    "    #number of roots are 2\n",
    "    x1 = (((-b) + math.sqrt(delta)) / (2 * a))\n",
    "    x2 = (((-b) - math.sqrt(delta)) /(2 * a))\n",
    "    print(\"There are 2 roots:%f and %f\" % (x1, x2))\n",
    "elif delta== 0:\n",
    "        #number  of roots 1, rational and equal\n",
    "        x (-b)/2*a\n",
    "        print(\"There is one roots:\", x)\n",
    "else:\n",
    "            #number of roots 0, imaginary\n",
    "            print(\"no roots, delta < 0\")"
   ]
  },
  {
   "cell_type": "markdown",
   "id": "9299ca68",
   "metadata": {},
   "source": [
    "### Q5.Write a Python program to swap two variables without temp variable?"
   ]
  },
  {
   "cell_type": "markdown",
   "id": "e13b2aa9",
   "metadata": {},
   "source": [
    "### Ans5."
   ]
  },
  {
   "cell_type": "code",
   "execution_count": 5,
   "id": "9fcd5dca",
   "metadata": {},
   "outputs": [
    {
     "name": "stdout",
     "output_type": "stream",
     "text": [
      "Enter value x:20\n",
      "Enter the value y:40\n",
      "after swappoing \n",
      " x= 20 y= 40\n",
      "Before swapping \n",
      " x= 40 y= 20\n"
     ]
    }
   ],
   "source": [
    "x = int(input('Enter value x:')) # 10\n",
    "y = int(input('Enter the value y:')) # 20\n",
    "print('after swappoing \\n x=',x, 'y=', y)\n",
    "x =x+y # 30\n",
    "y =x-y # 10\n",
    "x =x-y # 20\n",
    "print('Before swapping \\n x=', x, 'y=',y)"
   ]
  }
 ],
 "metadata": {
  "kernelspec": {
   "display_name": "Python 3 (ipykernel)",
   "language": "python",
   "name": "python3"
  },
  "language_info": {
   "codemirror_mode": {
    "name": "ipython",
    "version": 3
   },
   "file_extension": ".py",
   "mimetype": "text/x-python",
   "name": "python",
   "nbconvert_exporter": "python",
   "pygments_lexer": "ipython3",
   "version": "3.9.13"
  }
 },
 "nbformat": 4,
 "nbformat_minor": 5
}
