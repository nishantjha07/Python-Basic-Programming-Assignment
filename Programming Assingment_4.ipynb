{
 "cells": [
  {
   "cell_type": "markdown",
   "id": "52213c5e",
   "metadata": {},
   "source": [
    "### Q1. Write a Python Program to Find the Factorial of a Number?"
   ]
  },
  {
   "cell_type": "markdown",
   "id": "2eb446d3",
   "metadata": {},
   "source": [
    "### Ans1."
   ]
  },
  {
   "cell_type": "code",
   "execution_count": 1,
   "id": "30558485",
   "metadata": {},
   "outputs": [
    {
     "name": "stdout",
     "output_type": "stream",
     "text": [
      "Enter a number100\n",
      "The factorial of 100 is 93326215443944152681699238856266700490715968264381621468592963895217599993229915608941463976156518286253697920827223758251185210916864000000000000000000000000\n"
     ]
    }
   ],
   "source": [
    "def factorial(num):\n",
    "    if (num<1):\n",
    "        return 1\n",
    "    else:\n",
    "        return num*factorial(num-1)\n",
    "num = int(input('Enter a number'))\n",
    "value =factorial(num)\n",
    "print(f'The factorial of {num} is {value}')"
   ]
  },
  {
   "cell_type": "markdown",
   "id": "d565f6c8",
   "metadata": {},
   "source": [
    "### Q2. Write a Python Program to Display the multiplication Table?"
   ]
  },
  {
   "cell_type": "markdown",
   "id": "c1ca957f",
   "metadata": {},
   "source": [
    "### Ans2."
   ]
  },
  {
   "cell_type": "code",
   "execution_count": 2,
   "id": "c650cf3a",
   "metadata": {},
   "outputs": [
    {
     "name": "stdout",
     "output_type": "stream",
     "text": [
      "Enter a number: 2\n",
      "Enter no of entries: 20\n",
      "2 X 1 = 2\n",
      "2 X 2 = 4\n",
      "2 X 3 = 6\n",
      "2 X 4 = 8\n",
      "2 X 5 = 10\n",
      "2 X 6 = 12\n",
      "2 X 7 = 14\n",
      "2 X 8 = 16\n",
      "2 X 9 = 18\n",
      "2 X 10 = 20\n",
      "2 X 11 = 22\n",
      "2 X 12 = 24\n",
      "2 X 13 = 26\n",
      "2 X 14 = 28\n",
      "2 X 15 = 30\n",
      "2 X 16 = 32\n",
      "2 X 17 = 34\n",
      "2 X 18 = 36\n",
      "2 X 19 = 38\n",
      "2 X 20 = 40\n"
     ]
    }
   ],
   "source": [
    "def generateTable(base,entries):\n",
    "    for x in range(1,entries+1):\n",
    "        print(f'{base} X {x} = {base*x}')\n",
    "\n",
    "num = int(input('Enter a number: '))\n",
    "values = int(input('Enter no of entries: '))\n",
    "generateTable(num,values)"
   ]
  },
  {
   "cell_type": "markdown",
   "id": "d61156dd",
   "metadata": {},
   "source": [
    "### Q3. Write a Python Program to Print the Fibonacci sequence?"
   ]
  },
  {
   "cell_type": "markdown",
   "id": "9884013b",
   "metadata": {},
   "source": [
    "### Ans3."
   ]
  },
  {
   "cell_type": "code",
   "execution_count": 3,
   "id": "9d2463ca",
   "metadata": {},
   "outputs": [
    {
     "name": "stdout",
     "output_type": "stream",
     "text": [
      "Enter the no of fibonacce sequence you want2\n",
      "[0, 1]\n"
     ]
    }
   ],
   "source": [
    "s_count= int(input('Enter the no of fibonacce sequence you want'))\n",
    "initial_list=[0,1]\n",
    "if s_count < 0:\n",
    "    print('Fibonacce no are not available for negative no')\n",
    "elif s_count <= 2 and s_count >= 0:\n",
    "    print(initial_list)\n",
    "else:\n",
    "    for ins in range(s_count):\n",
    "        if ins >= 2:\n",
    "            initial_list.append(initial_list[ins-1]+initial_list[ins-2])\n",
    "    print(f'the first{s_count} fibonacce series are:',initial_list)"
   ]
  },
  {
   "cell_type": "code",
   "execution_count": 4,
   "id": "800f27a6",
   "metadata": {},
   "outputs": [
    {
     "name": "stdout",
     "output_type": "stream",
     "text": [
      "Enter the no of fibonacce sequence you want5\n",
      "the first5 fibonacce series are: [0, 1, 1, 2, 3]\n"
     ]
    }
   ],
   "source": [
    "s_count= int(input('Enter the no of fibonacce sequence you want'))\n",
    "initial_list=[0,1]\n",
    "if s_count < 0:\n",
    "    print('Fibonacce no are not available for negative no')\n",
    "elif s_count <= 2 and s_count >= 0:\n",
    "    print(initial_list)\n",
    "else:\n",
    "    for ins in range(s_count):\n",
    "        if ins >= 2:\n",
    "            initial_list.append(initial_list[ins-1]+initial_list[ins-2])\n",
    "    print(f'the first{s_count} fibonacce series are:',initial_list)"
   ]
  },
  {
   "cell_type": "code",
   "execution_count": 5,
   "id": "e535d226",
   "metadata": {},
   "outputs": [
    {
     "name": "stdout",
     "output_type": "stream",
     "text": [
      "Enter the no of fibonacce sequence you want10\n",
      "the first10 fibonacce series are: [0, 1, 1, 2, 3, 5, 8, 13, 21, 34]\n"
     ]
    }
   ],
   "source": [
    "s_count= int(input('Enter the no of fibonacce sequence you want'))\n",
    "initial_list=[0,1]\n",
    "if s_count < 0:\n",
    "    print('Fibonacce no are not available for negative no')\n",
    "elif s_count <= 2 and s_count >= 0:\n",
    "    print(initial_list)\n",
    "else:\n",
    "    for ins in range(s_count):\n",
    "        if ins >= 2:\n",
    "            initial_list.append(initial_list[ins-1]+initial_list[ins-2])\n",
    "    print(f'the first{s_count} fibonacce series are:',initial_list)"
   ]
  },
  {
   "cell_type": "markdown",
   "id": "9e3229af",
   "metadata": {},
   "source": [
    "### Q4. Write a Python Program to Check Armstrong Number?"
   ]
  },
  {
   "cell_type": "markdown",
   "id": "506e3ccf",
   "metadata": {},
   "source": [
    "### Ans4."
   ]
  },
  {
   "cell_type": "code",
   "execution_count": 6,
   "id": "a143e140",
   "metadata": {},
   "outputs": [
    {
     "name": "stdout",
     "output_type": "stream",
     "text": [
      "Enter a number:125\n",
      "125 is a not Armstrong Number\n",
      "Enter a number:153\n",
      "153 is a Armstrong Number\n"
     ]
    }
   ],
   "source": [
    "def checkArmstrongNumber():\n",
    "    in_num = input(\"Enter a number:\")\n",
    "    sum=0\n",
    "    for char in range (len(in_num)):\n",
    "        sum = sum + pow(int(in_num[char]),3)\n",
    "    if sum == int(in_num):\n",
    "        print(f'{in_num} is a Armstrong Number')\n",
    "    else:\n",
    "        print(f'{in_num} is a not Armstrong Number')\n",
    "\n",
    "for cx in range(2):\n",
    "    checkArmstrongNumber()"
   ]
  },
  {
   "cell_type": "markdown",
   "id": "6f5e32c8",
   "metadata": {},
   "source": [
    "### Q5. Write a Python Program to Find Armstrong Number in an Interval?"
   ]
  },
  {
   "cell_type": "markdown",
   "id": "eaa62fb6",
   "metadata": {},
   "source": [
    "### Ans5."
   ]
  },
  {
   "cell_type": "code",
   "execution_count": 9,
   "id": "ecaac325",
   "metadata": {},
   "outputs": [
    {
     "name": "stdout",
     "output_type": "stream",
     "text": [
      "Enter the Start of the Interval: 1\n",
      "Enter the End of the Interval: 10000\n",
      "The Armstrong numbers between 1 and 10000 are [1, 153, 370, 371, 407]\n"
     ]
    }
   ],
   "source": [
    "def checkArmstrongNumber(in_num, storage):\n",
    "    sum = 0\n",
    "    for char in range(len(in_num)):\n",
    "        sum = sum + pow(int(in_num[char]),3)\n",
    "    if sum == int(in_num):\n",
    "        storage.append(int(in_num))\n",
    "\n",
    "start_interval = int(input('Enter the Start of the Interval: '))\n",
    "end_interval = int(input('Enter the End of the Interval: '))\n",
    "list_of_armstrong = []\n",
    "\n",
    "if start_interval > end_interval:\n",
    "    print(\"Start Interval Cannot be Greater than End Interval\")\n",
    "else:\n",
    "    for number in range(start_interval,end_interval+1):\n",
    "        checkArmstrongNumber(str(number),list_of_armstrong)\n",
    "    print(f'The Armstrong numbers between {start_interval} and {end_interval} are {list_of_armstrong}')"
   ]
  },
  {
   "cell_type": "markdown",
   "id": "1e246d9c",
   "metadata": {},
   "source": [
    "### Q6. Write a Python Program to Find the Sum of Natural Numbers?"
   ]
  },
  {
   "cell_type": "markdown",
   "id": "a754958c",
   "metadata": {},
   "source": [
    "### Ans6."
   ]
  },
  {
   "cell_type": "code",
   "execution_count": 10,
   "id": "17a211ef",
   "metadata": {},
   "outputs": [
    {
     "name": "stdout",
     "output_type": "stream",
     "text": [
      "Enter a number: 120\n",
      "Sum of 120 natural numbers is 7260.0\n"
     ]
    }
   ],
   "source": [
    "def sumOfNaturalNumbers(num):\n",
    "    sum = num*((num+1)/2)\n",
    "    print(f'Sum of {num} natural numbers is {sum}')\n",
    "    \n",
    "num = int(input('Enter a number: '))\n",
    "sumOfNaturalNumbers(num)"
   ]
  }
 ],
 "metadata": {
  "kernelspec": {
   "display_name": "Python 3 (ipykernel)",
   "language": "python",
   "name": "python3"
  },
  "language_info": {
   "codemirror_mode": {
    "name": "ipython",
    "version": 3
   },
   "file_extension": ".py",
   "mimetype": "text/x-python",
   "name": "python",
   "nbconvert_exporter": "python",
   "pygments_lexer": "ipython3",
   "version": "3.9.13"
  }
 },
 "nbformat": 4,
 "nbformat_minor": 5
}
