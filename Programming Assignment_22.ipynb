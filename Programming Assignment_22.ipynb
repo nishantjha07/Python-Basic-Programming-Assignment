{
 "cells": [
  {
   "cell_type": "markdown",
   "id": "d27668f0",
   "metadata": {},
   "source": [
    "### Q1. Create a function that takes three parameters where:\n",
    "- x is the start of the range (inclusive).\n",
    "- y is the end of the range (inclusive).\n",
    "- n is the divisor to be checked against.\n",
    "\n",
    "Return an ordered list with numbers in the range that are divisible by the third parameter n. Return an empty list if there are no numbers that are divisible by n.\n",
    "\n",
    "Examples:\n",
    "\n",
    "list_operation(1, 10, 3) ➞ [3, 6, 9]\n",
    "\n",
    "list_operation(7, 9, 2) ➞ [8]\n",
    "\n",
    "list_operation(15, 20, 7) ➞ []"
   ]
  },
  {
   "cell_type": "markdown",
   "id": "ceb84daa",
   "metadata": {},
   "source": [
    "### Ans1."
   ]
  },
  {
   "cell_type": "code",
   "execution_count": 1,
   "id": "478aa07d",
   "metadata": {},
   "outputs": [
    {
     "name": "stdout",
     "output_type": "stream",
     "text": [
      "list_operation(1, 10, 3) ➞ [3, 6, 9]\n",
      "list_operation(7, 9, 2) ➞ [8]\n",
      "list_operation(15, 20, 7) ➞ []\n"
     ]
    }
   ],
   "source": [
    "def list_operation(start,end,divisor):\n",
    "    out_list = []\n",
    "    for i in range(start,end+1):\n",
    "        if i%divisor == 0:\n",
    "            out_list.append(i)\n",
    "    print(f'list_operation{start,end,divisor} ➞ {out_list}')\n",
    "    \n",
    "list_operation(1,10,3)\n",
    "list_operation(7,9,2)\n",
    "list_operation(15,20,7)"
   ]
  },
  {
   "cell_type": "markdown",
   "id": "d8756bea",
   "metadata": {},
   "source": [
    "### Q2. Create a function that takes in two lists and returns True if the second list follows the first list by one element, and False otherwise. In other words, determine if the second list is the first list shifted to the right by 1.\n",
    "Examples:\n",
    "\n",
    "simon_says([1, 2], [5, 1]) ➞ True\n",
    "\n",
    "simon_says([1, 2], [5, 5]) ➞ False\n",
    "\n",
    "simon_says([1, 2, 3, 4, 5], [0, 1, 2, 3, 4]) ➞ True\n",
    "\n",
    "simon_says([1, 2, 3, 4, 5], [5, 5, 1, 2, 3]) ➞ False\n",
    "\n",
    "#### Notes\n",
    "- Both input lists will be of the same length, and will have a minimum length of 2.\n",
    "- The values of the 0-indexed element in the second list and the n-1th indexed element in the first list do not matter."
   ]
  },
  {
   "cell_type": "markdown",
   "id": "7567e539",
   "metadata": {},
   "source": [
    "### Ans2."
   ]
  },
  {
   "cell_type": "code",
   "execution_count": 2,
   "id": "6caaa56c",
   "metadata": {},
   "outputs": [
    {
     "name": "stdout",
     "output_type": "stream",
     "text": [
      "([1, 2], [5, 1]) ➞ True\n",
      "([1, 2], [5, 5]) ➞ False\n",
      "([1, 2, 3, 4, 5], [0, 1, 2, 3, 4]) ➞ True\n",
      "([1, 2, 3, 4, 5], [5, 5, 1, 2, 3]) ➞ False\n"
     ]
    }
   ],
   "source": [
    "def simon_says(l1,l2):\n",
    "    if len(l1) == len(l2) and len(l1) >= 2 and len(l2) >= 2:\n",
    "        if (l1[:-1]) == (l2[1:]):\n",
    "            print(f'{l1,l2} ➞ {True}')\n",
    "        else:\n",
    "            print(f'{l1,l2} ➞ {False}')\n",
    "            \n",
    "\n",
    "simon_says([1, 2], [5, 1])\n",
    "simon_says([1, 2], [5, 5])\n",
    "simon_says([1, 2, 3, 4, 5], [0, 1, 2, 3, 4])\n",
    "simon_says([1, 2, 3, 4, 5], [5, 5, 1, 2, 3]) "
   ]
  },
  {
   "cell_type": "markdown",
   "id": "35b5717d",
   "metadata": {},
   "source": [
    "### Q3. A group of friends have decided to start a secret society. The name will be the first letter of each of their names, sorted in alphabetical order.\n",
    "Create a function that takes in a list of names and returns the name of the secret society.\n",
    "\n",
    "Examples:\n",
    "\n",
    "society_name([\"Adam\", \"Sarah\", \"Malcolm\"]) ➞ \"AMS\"\n",
    "\n",
    "society_name([\"Harry\", \"Newt\", \"Luna\", \"Cho\"]) ➞ \"CHLN\"\n",
    "\n",
    "society_name([\"Phoebe\", \"Chandler\", \"Rachel\", \"Ross\", \"Monica\", \"Joey\"])"
   ]
  },
  {
   "cell_type": "markdown",
   "id": "f3b9fb31",
   "metadata": {},
   "source": [
    "### Ans3."
   ]
  },
  {
   "cell_type": "code",
   "execution_count": 3,
   "id": "6b098de0",
   "metadata": {},
   "outputs": [
    {
     "name": "stdout",
     "output_type": "stream",
     "text": [
      "['Adam', 'Sarah', 'Malcolm'] ➞ AMS\n",
      "['Harry', 'Newt', 'Luna', 'Cho'] ➞ CHLN\n",
      "['Phoebe', 'Chandler', 'Rachel', 'Ross', 'Monica', 'Joey'] ➞ CJMPRR\n"
     ]
    }
   ],
   "source": [
    "def society_name(list):\n",
    "    out_string = []\n",
    "    for i in list:\n",
    "        out_string.append(i[0])\n",
    "    output = ''.join(sorted(out_string))\n",
    "    print(f'{list} ➞ {output}')\n",
    "    \n",
    "society_name([\"Adam\", \"Sarah\", \"Malcolm\"])\n",
    "society_name([\"Harry\", \"Newt\", \"Luna\", \"Cho\"])\n",
    "society_name([\"Phoebe\", \"Chandler\", \"Rachel\", \"Ross\", \"Monica\", \"Joey\"])"
   ]
  },
  {
   "cell_type": "markdown",
   "id": "ad5bfe04",
   "metadata": {},
   "source": [
    "### Q4. An isogram is a word that has no duplicate letters. Create a function that takes a string and returns either True or False depending on whether or not it's an \"isogram\".\n",
    "Examples:\n",
    "\n",
    "is_isogram(\"Algorism\") ➞ True\n",
    "\n",
    "is_isogram(\"PasSword\") ➞ False\n",
    "\n",
    "Not case sensitive.\n",
    "is_isogram(\"Consecutive\") ➞ False\n",
    "\n",
    "#### Notes\n",
    "- Ignore letter case (should not be case sensitive).\n",
    "- All test cases contain valid one word strings."
   ]
  },
  {
   "cell_type": "markdown",
   "id": "56221560",
   "metadata": {},
   "source": [
    "### Ans4."
   ]
  },
  {
   "cell_type": "code",
   "execution_count": 4,
   "id": "0d62dfd6",
   "metadata": {},
   "outputs": [
    {
     "name": "stdout",
     "output_type": "stream",
     "text": [
      "Algorism ➞ True\n",
      "PasSword ➞ False\n",
      "Consecutive ➞ False\n"
     ]
    }
   ],
   "source": [
    "def is_isogram(in_string):\n",
    "    lower_in_string = in_string.lower()\n",
    "    if len(lower_in_string) == len(set(lower_in_string)):\n",
    "        print(f'{in_string} ➞ {True}')\n",
    "    else:\n",
    "        print(f'{in_string} ➞ {False}')\n",
    "    \n",
    "is_isogram(\"Algorism\")\n",
    "is_isogram(\"PasSword\")\n",
    "is_isogram(\"Consecutive\")"
   ]
  },
  {
   "cell_type": "markdown",
   "id": "5358536e",
   "metadata": {},
   "source": [
    "### Q5. Create a function that takes a string and returns True or False, depending on whether the characters are in order or not.\n",
    "Examples:\n",
    "\n",
    "is_in_order(\"abc\") ➞ True\n",
    "\n",
    "is_in_order(\"edabit\") ➞ False\n",
    "\n",
    "is_in_order(\"123\") ➞ True\n",
    "\n",
    "is_in_order(\"xyzz\") ➞ True\n",
    "\n",
    "#### Notes\n",
    "You don't have to handle empty strings."
   ]
  },
  {
   "cell_type": "markdown",
   "id": "764b2f37",
   "metadata": {},
   "source": [
    "### Ans5."
   ]
  },
  {
   "cell_type": "code",
   "execution_count": 5,
   "id": "8b106580",
   "metadata": {},
   "outputs": [
    {
     "name": "stdout",
     "output_type": "stream",
     "text": [
      "abc ➞ True\n",
      "edabit ➞ False\n",
      "123 ➞ True\n",
      "xyzz ➞ True\n"
     ]
    }
   ],
   "source": [
    "def is_in_order(in_string):\n",
    "    in_string_sorted = ''.join(sorted(in_string))\n",
    "    if in_string == in_string_sorted:\n",
    "        print(f'{in_string} ➞ {True}')\n",
    "    else:\n",
    "       print(f'{in_string} ➞ {False}')\n",
    "\n",
    "is_in_order(\"abc\")\n",
    "is_in_order(\"edabit\")\n",
    "is_in_order(\"123\")\n",
    "is_in_order(\"xyzz\")"
   ]
  }
 ],
 "metadata": {
  "kernelspec": {
   "display_name": "Python 3 (ipykernel)",
   "language": "python",
   "name": "python3"
  },
  "language_info": {
   "codemirror_mode": {
    "name": "ipython",
    "version": 3
   },
   "file_extension": ".py",
   "mimetype": "text/x-python",
   "name": "python",
   "nbconvert_exporter": "python",
   "pygments_lexer": "ipython3",
   "version": "3.9.13"
  }
 },
 "nbformat": 4,
 "nbformat_minor": 5
}
