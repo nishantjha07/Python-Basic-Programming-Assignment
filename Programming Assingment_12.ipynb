{
 "cells": [
  {
   "cell_type": "markdown",
   "id": "d072e0a9",
   "metadata": {},
   "source": [
    "### Q1.\tWrite a Python program to Extract Unique values dictionary values?"
   ]
  },
  {
   "cell_type": "markdown",
   "id": "3837fed3",
   "metadata": {},
   "source": [
    "### Ans1."
   ]
  },
  {
   "cell_type": "code",
   "execution_count": 1,
   "id": "5ea1fae6",
   "metadata": {},
   "outputs": [
    {
     "name": "stdout",
     "output_type": "stream",
     "text": [
      "Unique values: [200, 100, 400, 300]\n"
     ]
    }
   ],
   "source": [
    "def extract_unique_values(d):\n",
    "    \"\"\"\n",
    "    Extract unique values from a dictionary.\n",
    "\n",
    "    Parameters:\n",
    "    d (dict): The input dictionary.\n",
    "\n",
    "    Returns:\n",
    "    list: A list of unique values from the dictionary.\n",
    "    \"\"\"\n",
    "    # Get all values from the dictionary\n",
    "    values = d.values()\n",
    "    \n",
    "    # Use a set to get unique values\n",
    "    unique_values = set(values)\n",
    "    \n",
    "    # Convert the set back to a list if needed\n",
    "    return list(unique_values)\n",
    "\n",
    "# Example usage\n",
    "if __name__ == \"__main__\":\n",
    "    # Define a dictionary with some duplicate values\n",
    "    my_dict = {\n",
    "        'a': 100,\n",
    "        'b': 200,\n",
    "        'c': 100,\n",
    "        'd': 300,\n",
    "        'e': 200,\n",
    "        'f': 400\n",
    "    }\n",
    "    \n",
    "    # Extract unique values\n",
    "    unique_values = extract_unique_values(my_dict)\n",
    "    \n",
    "\n",
    "    print(\"Unique values:\", unique_values)\n"
   ]
  },
  {
   "cell_type": "markdown",
   "id": "34d5425b",
   "metadata": {},
   "source": [
    "### Q2.\tWrite a Python program to find the sum of all items in a dictionary?"
   ]
  },
  {
   "cell_type": "markdown",
   "id": "df337892",
   "metadata": {},
   "source": [
    "### Ans2."
   ]
  },
  {
   "cell_type": "code",
   "execution_count": 2,
   "id": "71d49d27",
   "metadata": {},
   "outputs": [
    {
     "name": "stdout",
     "output_type": "stream",
     "text": [
      "Sum of all values: 1000\n"
     ]
    }
   ],
   "source": [
    "def sum_of_dict_values(d):\n",
    "    \"\"\"\n",
    "    Calculate the sum of all values in a dictionary.\n",
    "\n",
    "    Parameters:\n",
    "    d (dict): The input dictionary where values are numeric.\n",
    "\n",
    "    Returns:\n",
    "    int or float: The sum of all values in the dictionary.\n",
    "    \"\"\"\n",
    "    # Get all values from the dictionary\n",
    "    values = d.values()\n",
    "    \n",
    "    # Calculate the sum of all values\n",
    "    total_sum = sum(values)\n",
    "    \n",
    "    return total_sum\n",
    "\n",
    "# Example usage\n",
    "if __name__ == \"__main__\":\n",
    "    # Define a dictionary with numeric values\n",
    "    my_dict = {\n",
    "        'a': 100,\n",
    "        'b': 200,\n",
    "        'c': 300,\n",
    "        'd': 400\n",
    "    }\n",
    "    \n",
    "    # Calculate the sum of all values\n",
    "    total_sum = sum_of_dict_values(my_dict)\n",
    "    \n",
    "\n",
    "    print(\"Sum of all values:\", total_sum)\n"
   ]
  },
  {
   "cell_type": "markdown",
   "id": "c8526e4a",
   "metadata": {},
   "source": [
    "### Q3.\tWrite a Python program to Merging two Dictionaries?"
   ]
  },
  {
   "cell_type": "markdown",
   "id": "575b9319",
   "metadata": {},
   "source": [
    "### Ans3."
   ]
  },
  {
   "cell_type": "code",
   "execution_count": 3,
   "id": "95845e89",
   "metadata": {},
   "outputs": [
    {
     "name": "stdout",
     "output_type": "stream",
     "text": [
      "Merged dictionary: {'a': 10, 'b': 30, 'c': 40}\n"
     ]
    }
   ],
   "source": [
    "def merge_dicts(dict1, dict2):\n",
    "    \"\"\"\n",
    "    Merge two dictionaries into one.\n",
    "\n",
    "    Parameters:\n",
    "    dict1 (dict): The first dictionary.\n",
    "    dict2 (dict): The second dictionary.\n",
    "\n",
    "    Returns:\n",
    "    dict: A new dictionary containing all items from both input dictionaries.\n",
    "    \"\"\"\n",
    "    # Create a copy of the first dictionary\n",
    "    merged_dict = dict1.copy()\n",
    "    \n",
    "    # Update the copy with the second dictionary\n",
    "    merged_dict.update(dict2)\n",
    "    \n",
    "    return merged_dict\n",
    "\n",
    "# Example usage\n",
    "if __name__ == \"__main__\":\n",
    "    dict1 = {'a': 10, 'b': 20}\n",
    "    dict2 = {'b': 30, 'c': 40}\n",
    "    \n",
    "    # Merge the dictionaries\n",
    "    merged_dict = merge_dicts(dict1, dict2)\n",
    "    \n",
    "\n",
    "    print(\"Merged dictionary:\", merged_dict)\n"
   ]
  },
  {
   "cell_type": "markdown",
   "id": "d9f6c884",
   "metadata": {},
   "source": [
    "### Q4.\tWrite a Python program to convert key-values list to flat dictionary?"
   ]
  },
  {
   "cell_type": "markdown",
   "id": "ce4c31f8",
   "metadata": {},
   "source": [
    "### Ans4."
   ]
  },
  {
   "cell_type": "code",
   "execution_count": 4,
   "id": "712c0d9d",
   "metadata": {},
   "outputs": [
    {
     "name": "stdout",
     "output_type": "stream",
     "text": [
      "Flat dictionary: {'a': 10, 'b': 20, 'c': 30}\n"
     ]
    }
   ],
   "source": [
    "def list_to_dict(key_value_list):\n",
    "    \"\"\"\n",
    "    Convert a list of key-value pairs into a flat dictionary.\n",
    "\n",
    "    Parameters:\n",
    "    key_value_list (list of tuples): The list where each tuple contains a key and a value.\n",
    "\n",
    "    Returns:\n",
    "    dict: A dictionary created from the list of key-value pairs.\n",
    "    \"\"\"\n",
    "    # Convert the list of key-value pairs to a dictionary\n",
    "    result_dict = dict(key_value_list)\n",
    "    \n",
    "    return result_dict\n",
    "\n",
    "# Example usage\n",
    "if __name__ == \"__main__\":\n",
    "    # Define the list of key-value pairs\n",
    "    key_value_list = [(\"a\", 10), (\"b\", 20), (\"c\", 30)]\n",
    "    \n",
    "    # Convert the list to a dictionary\n",
    "    result_dict = list_to_dict(key_value_list)\n",
    "\n",
    "    print(\"Flat dictionary:\", result_dict)\n"
   ]
  },
  {
   "cell_type": "markdown",
   "id": "b3d6d702",
   "metadata": {},
   "source": [
    "### Q5.\tWrite a Python program to insertion at the beginning in OrderedDict?"
   ]
  },
  {
   "cell_type": "markdown",
   "id": "3724f694",
   "metadata": {},
   "source": [
    "### Ans5."
   ]
  },
  {
   "cell_type": "code",
   "execution_count": 5,
   "id": "d6b4b523",
   "metadata": {},
   "outputs": [
    {
     "name": "stdout",
     "output_type": "stream",
     "text": [
      "Updated OrderedDict: OrderedDict([('a', 10), ('b', 20), ('c', 30), ('d', 40)])\n"
     ]
    }
   ],
   "source": [
    "from collections import OrderedDict\n",
    "\n",
    "def insert_at_beginning(ordered_dict, key, value):\n",
    "    \"\"\"\n",
    "    Insert an item at the beginning of an OrderedDict.\n",
    "\n",
    "    Parameters:\n",
    "    ordered_dict (OrderedDict): The original OrderedDict.\n",
    "    key (Any): The key for the new item.\n",
    "    value (Any): The value for the new item.\n",
    "\n",
    "    Returns:\n",
    "    OrderedDict: A new OrderedDict with the new item inserted at the beginning.\n",
    "    \"\"\"\n",
    "    # Create a new OrderedDict with the new item first\n",
    "    new_ordered_dict = OrderedDict([(key, value)] + list(ordered_dict.items()))\n",
    "    \n",
    "    return new_ordered_dict\n",
    "\n",
    "# Example usage\n",
    "if __name__ == \"__main__\":\n",
    "    # Define the original OrderedDict\n",
    "    original_dict = OrderedDict([('b', 20), ('c', 30), ('d', 40)])\n",
    "    \n",
    "    # Insert a new item at the beginning\n",
    "    updated_dict = insert_at_beginning(original_dict, 'a', 10)\n",
    "    \n",
    "\n",
    "    print(\"Updated OrderedDict:\", updated_dict)\n"
   ]
  },
  {
   "cell_type": "markdown",
   "id": "62432836",
   "metadata": {},
   "source": [
    "### Q6.\tWrite a Python program to check order of character in string using OrderedDict()?"
   ]
  },
  {
   "cell_type": "markdown",
   "id": "48cc8b02",
   "metadata": {},
   "source": [
    "### Ans6."
   ]
  },
  {
   "cell_type": "code",
   "execution_count": 6,
   "id": "b4c620a7",
   "metadata": {},
   "outputs": [
    {
     "name": "stdout",
     "output_type": "stream",
     "text": [
      "Is 'abcdef' ordered? True\n",
      "Is 'abcae' ordered? False\n",
      "Is 'aaabbbccc' ordered? False\n"
     ]
    }
   ],
   "source": [
    "from collections import OrderedDict\n",
    "\n",
    "def check_character_order(s):\n",
    "    \"\"\"\n",
    "    Check if the characters in the string `s` are in the order of their first appearance.\n",
    "\n",
    "    Parameters:\n",
    "    s (str): The input string to check.\n",
    "\n",
    "    Returns:\n",
    "    bool: True if characters are in the order of their first appearance, False otherwise.\n",
    "    \"\"\"\n",
    "    # Create an OrderedDict to keep track of character order\n",
    "    ordered_dict = OrderedDict()\n",
    "    \n",
    "    # Add characters to OrderedDict\n",
    "    for char in s:\n",
    "        if char in ordered_dict:\n",
    "            # Update the existing entry to move it to the end\n",
    "            del ordered_dict[char]\n",
    "        ordered_dict[char] = None\n",
    "    \n",
    "    # Rebuild the string from OrderedDict to check if it matches the original\n",
    "    ordered_string = ''.join(ordered_dict.keys())\n",
    "    \n",
    "    return ordered_string == s\n",
    "\n",
    "# Example usage\n",
    "if __name__ == \"__main__\":\n",
    "    # Define test strings\n",
    "    test_string1 = \"abcdef\"\n",
    "    test_string2 = \"abcae\"\n",
    "    test_string3 = \"aaabbbccc\"\n",
    "\n",
    "\n",
    "    print(f\"Is '{test_string1}' ordered? {check_character_order(test_string1)}\")\n",
    "    print(f\"Is '{test_string2}' ordered? {check_character_order(test_string2)}\")\n",
    "    print(f\"Is '{test_string3}' ordered? {check_character_order(test_string3)}\")\n"
   ]
  },
  {
   "cell_type": "markdown",
   "id": "58a81917",
   "metadata": {},
   "source": [
    "### Q7.\tWrite a Python program to sort Python Dictionaries by Key or Value?"
   ]
  },
  {
   "cell_type": "markdown",
   "id": "e417a876",
   "metadata": {},
   "source": [
    "### Ans7."
   ]
  },
  {
   "cell_type": "code",
   "execution_count": 7,
   "id": "bdc55291",
   "metadata": {},
   "outputs": [
    {
     "name": "stdout",
     "output_type": "stream",
     "text": [
      "Sorted by key: {'apple': 40, 'banana': 30, 'orange': 20, 'pear': 10}\n"
     ]
    }
   ],
   "source": [
    "def sort_dict_by_key(d):\n",
    "    \"\"\"\n",
    "    Sort a dictionary by its keys.\n",
    "\n",
    "    Parameters:\n",
    "    d (dict): The input dictionary.\n",
    "\n",
    "    Returns:\n",
    "    dict: A new dictionary sorted by keys.\n",
    "    \"\"\"\n",
    "    # Sort the dictionary by key and return a new dictionary\n",
    "    sorted_dict = {k: d[k] for k in sorted(d)}\n",
    "    return sorted_dict\n",
    "\n",
    "# Example usage\n",
    "if __name__ == \"__main__\":\n",
    "    my_dict = {'banana': 30, 'apple': 40, 'pear': 10, 'orange': 20}\n",
    "    \n",
    "    # Sort the dictionary by key\n",
    "    sorted_by_key = sort_dict_by_key(my_dict)\n",
    "    \n",
    "    # Print the result\n",
    "    print(\"Sorted by key:\", sorted_by_key)\n"
   ]
  }
 ],
 "metadata": {
  "kernelspec": {
   "display_name": "Python 3 (ipykernel)",
   "language": "python",
   "name": "python3"
  },
  "language_info": {
   "codemirror_mode": {
    "name": "ipython",
    "version": 3
   },
   "file_extension": ".py",
   "mimetype": "text/x-python",
   "name": "python",
   "nbconvert_exporter": "python",
   "pygments_lexer": "ipython3",
   "version": "3.9.13"
  }
 },
 "nbformat": 4,
 "nbformat_minor": 5
}
