{
 "cells": [
  {
   "cell_type": "markdown",
   "id": "bb41411e",
   "metadata": {},
   "source": [
    "### Q1. Create a function that takes three arguments a, b, c and returns the sum of the numbers that are evenly divided by c from the range a, b inclusive.\n",
    "Examples \n",
    "\n",
    "evenly_divisible(1, 10, 20) ➞ 0\n",
    "\n",
    "#### No number between 1 and 10 can be evenly divided by 20.\n",
    "evenly_divisible(1, 10, 2) ➞ 30\n",
    "\n",
    "#### 2 + 4 + 6 + 8 + 10 = 30\n",
    "evenly_divisible(1, 10, 3) ➞ 18\n",
    "\n",
    "#### 3 + 6 + 9 = 18\n"
   ]
  },
  {
   "cell_type": "markdown",
   "id": "2e5456a3",
   "metadata": {},
   "source": [
    "### Ans1."
   ]
  },
  {
   "cell_type": "code",
   "execution_count": 1,
   "id": "08253a63",
   "metadata": {},
   "outputs": [
    {
     "name": "stdout",
     "output_type": "stream",
     "text": [
      "(1, 10, 20) ➞ 0\n",
      "(1, 10, 2) ➞ 30\n",
      "(1, 10, 3) ➞ 18\n"
     ]
    }
   ],
   "source": [
    "def evenDivisible(a,b,c):\n",
    "    divList = []\n",
    "    for i in range(a,b+1):\n",
    "        if i%c == 0:\n",
    "            divList.append(i)\n",
    "    print(f'{a,b,c} ➞ {sum(divList)}')\n",
    "\n",
    "evenDivisible(1,10,20)\n",
    "evenDivisible(1,10,2)\n",
    "evenDivisible(1,10,3)"
   ]
  },
  {
   "cell_type": "markdown",
   "id": "668bc17f",
   "metadata": {},
   "source": [
    "### Q2. Create a function that returns True if a given inequality expression is correct and False otherwise.\n",
    "Examples:\n",
    "\n",
    "correct_signs(\"3 < 7 < 11\") ➞ True\n",
    "\n",
    "correct_signs(\"13 > 44 > 33 > 1\") ➞ False\n",
    "\n",
    "correct_signs(\"1 < 2 < 6 < 9 > 3\") ➞ True"
   ]
  },
  {
   "cell_type": "markdown",
   "id": "cdb1c703",
   "metadata": {},
   "source": [
    "### Ans2."
   ]
  },
  {
   "cell_type": "code",
   "execution_count": 2,
   "id": "7efe1421",
   "metadata": {},
   "outputs": [
    {
     "name": "stdout",
     "output_type": "stream",
     "text": [
      "True\n",
      "False\n",
      "True\n"
     ]
    }
   ],
   "source": [
    "def check_equality(s):\n",
    "    regrex = eval(s)\n",
    "    if regrex :\n",
    "        return True\n",
    "    else:\n",
    "        return False\n",
    "\n",
    "print(check_equality(\"3 < 7 < 11\"))\n",
    "print(check_equality(\"13 > 44 > 33 > 1\"))\n",
    "print(check_equality(\"1 < 2 < 6 < 9 > 3\"))"
   ]
  },
  {
   "cell_type": "markdown",
   "id": "c0ffbff5",
   "metadata": {},
   "source": [
    "### Q3. Create a function that replaces all the vowels in a string with a specified character.\n",
    "Examples:\n",
    "\n",
    "replace_vowels(\"the aardvark\", \"#\") ➞ \"th# ##rdv#rk\"\n",
    "\n",
    "replace_vowels(\"minnie mouse\", \"?\") ➞ \"m?nn?? m??s?\"\n",
    "\n",
    "replace_vowels(\"shakespeare\", \"\") ➞ \"shksp**r\""
   ]
  },
  {
   "cell_type": "markdown",
   "id": "cf7bdd61",
   "metadata": {},
   "source": [
    "### Ans3."
   ]
  },
  {
   "cell_type": "code",
   "execution_count": 4,
   "id": "72d8b52f",
   "metadata": {},
   "outputs": [
    {
     "name": "stdout",
     "output_type": "stream",
     "text": [
      "String: the aardvark\n",
      "Enter a replacement character: #\n",
      "After replacing vowels with the specified character: th# ##rdv#rk\n",
      "String: minnie mouse\n",
      "Enter a replacement character: ?\n",
      "After replacing vowels with the specified character: m?nn?? m??s?\n",
      "String: shakespeare\n",
      "Enter a replacement character: *\n",
      "After replacing vowels with the specified character: sh*k*sp**r*\n"
     ]
    }
   ],
   "source": [
    "def replace_vowels_with_char(string,char):\n",
    "    vowels = ['a','e','i','o','u','A','E','I','O','U']\n",
    "    for i in vowels:\n",
    "        string = string.replace(i, char)\n",
    "    return string\n",
    "\n",
    "for i in range(3):\n",
    "    string = input(\"String: \")\n",
    "    char = input(\"Enter a replacement character: \")\n",
    "    print(\"After replacing vowels with the specified character:\", replace_vowels_with_char(string,char))\n",
    "  "
   ]
  },
  {
   "cell_type": "markdown",
   "id": "8e8cdd07",
   "metadata": {},
   "source": [
    "### Q4. Write a function that calculates the factorial of a number recursively.\n",
    "Examples:\n",
    "\n",
    "factorial(5) ➞ 120\n",
    "\n",
    "factorial(3) ➞ 6\n",
    "\n",
    "factorial(1) ➞ 1\n",
    "\n",
    "factorial(0) ➞ 1"
   ]
  },
  {
   "cell_type": "markdown",
   "id": "a22b0de6",
   "metadata": {},
   "source": [
    "### Ans4."
   ]
  },
  {
   "cell_type": "code",
   "execution_count": 1,
   "id": "1a5d4f88",
   "metadata": {},
   "outputs": [
    {
     "name": "stdout",
     "output_type": "stream",
     "text": [
      "Enter a factorial number:5\n",
      "factorial(n): ➞ 120\n",
      "Enter a factorial number:3\n",
      "factorial(n): ➞ 6\n",
      "Enter a factorial number:1\n",
      "factorial(n): ➞ 1\n",
      "Enter a factorial number:0\n",
      "factorial(n): ➞ 1\n"
     ]
    }
   ],
   "source": [
    "def factorial(n):\n",
    "    if n==0:\n",
    "        return 1\n",
    "    return n*factorial(n-1)\n",
    "\n",
    "for i in range(4):\n",
    "    n = int(input('Enter a factorial number:'))\n",
    "    print(f'factorial(n): ➞ {factorial(n)}')"
   ]
  },
  {
   "cell_type": "markdown",
   "id": "e8e2a872",
   "metadata": {},
   "source": [
    "### Q5. Hamming distance is the number of characters that differ between two strings.\n",
    "To illustrate:\n",
    "\n",
    "String1: \"abcbba\"\n",
    "\n",
    "String2: \"abcbda\"\n",
    "\n",
    "Hamming Distance: 1 - \"b\" vs. \"d\" is the only difference.\n",
    "\n",
    "Create a function that computes the hamming distance between two strings.\n",
    "\n",
    "Examples:\n",
    "\n",
    "hamming_distance(\"abcde\", \"bcdef\") ➞ 5\n",
    "\n",
    "hamming_distance(\"abcde\", \"abcde\") ➞ 0\n",
    "\n",
    "hamming_distance(\"strong\", \"strung\") ➞ 1"
   ]
  },
  {
   "cell_type": "markdown",
   "id": "04d150b3",
   "metadata": {},
   "source": [
    "### Ans5."
   ]
  },
  {
   "cell_type": "code",
   "execution_count": 2,
   "id": "1c42babb",
   "metadata": {},
   "outputs": [
    {
     "name": "stdout",
     "output_type": "stream",
     "text": [
      "Enter String_1:abcde\n",
      "Enter String_2:bcdef\n",
      "Hamming Distance between abcde and bcdef ➞ 5\n",
      "Enter String_1:abcde\n",
      "Enter String_2:abcde\n",
      "Hamming Distance between abcde and abcde ➞ 0\n",
      "Enter String_1:strong\n",
      "Enter String_2:strung\n",
      "Hamming Distance between strong and strung ➞ 1\n"
     ]
    }
   ],
   "source": [
    "def hamming_distance():\n",
    "    s1 = input('Enter String_1:')\n",
    "    s2 = input('Enter String_2:')\n",
    "    if len(s1) == len(s2):\n",
    "        count = 0\n",
    "        for i in range(len(s1)):\n",
    "            if s1[i] != s2[i]:\n",
    "                count = count+1\n",
    "        print(f'Hamming Distance between {s1} and {s2} ➞ {count}')\n",
    "    else:\n",
    "        print('Both String must be of same lenght.')\n",
    "        \n",
    "for i in range(3):\n",
    "    hamming_distance()"
   ]
  }
 ],
 "metadata": {
  "kernelspec": {
   "display_name": "Python 3 (ipykernel)",
   "language": "python",
   "name": "python3"
  },
  "language_info": {
   "codemirror_mode": {
    "name": "ipython",
    "version": 3
   },
   "file_extension": ".py",
   "mimetype": "text/x-python",
   "name": "python",
   "nbconvert_exporter": "python",
   "pygments_lexer": "ipython3",
   "version": "3.9.13"
  }
 },
 "nbformat": 4,
 "nbformat_minor": 5
}
