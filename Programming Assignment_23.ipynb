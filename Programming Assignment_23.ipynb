{
 "cells": [
  {
   "cell_type": "markdown",
   "id": "01aca62b",
   "metadata": {},
   "source": [
    "### Q1. Create a function that takes a number as an argument and returns True or False depending on whether the number is symmetrical or not. A number is symmetrical when it is the same as its reverse.\n",
    "Examples:\n",
    "\n",
    "is_symmetrical(7227) ➞ True\n",
    "\n",
    "is_symmetrical(12567) ➞ False\n",
    "\n",
    "is_symmetrical(44444444) ➞ True\n",
    "\n",
    "is_symmetrical(9939) ➞ False\n",
    "\n",
    "is_symmetrical(1112111) ➞ True"
   ]
  },
  {
   "cell_type": "markdown",
   "id": "9c6ded89",
   "metadata": {},
   "source": [
    "### Ans1."
   ]
  },
  {
   "cell_type": "code",
   "execution_count": 1,
   "id": "099c5af1",
   "metadata": {},
   "outputs": [
    {
     "name": "stdout",
     "output_type": "stream",
     "text": [
      "7227 ➞ True\n",
      "12567 ➞ False\n",
      "44444444 ➞ True\n",
      "9939 ➞ False\n",
      "1112111 ➞ True\n"
     ]
    }
   ],
   "source": [
    "def is_symmetrical(in_num):\n",
    "    if str(in_num) == str(in_num)[::-1]:\n",
    "        print(f'{in_num} ➞ {True}')\n",
    "    else:\n",
    "        print(f'{in_num} ➞ {False}')\n",
    "\n",
    "is_symmetrical(7227)\n",
    "is_symmetrical(12567)\n",
    "is_symmetrical(44444444)\n",
    "is_symmetrical(9939)\n",
    "is_symmetrical(1112111)"
   ]
  },
  {
   "cell_type": "markdown",
   "id": "015d40e7",
   "metadata": {},
   "source": [
    "### Q2. Given a string of numbers separated by a comma and space, return the product of the numbers.\n",
    "Examples:\n",
    "\n",
    "multiply_nums(\"2, 3\") ➞ 6\n",
    "\n",
    "multiply_nums(\"1, 2, 3, 4\") ➞ 24\n",
    "\n",
    "multiply_nums(\"54, 75, 453, 0\") ➞ 0\n",
    "\n",
    "multiply_nums(\"10, -2\") ➞ -20"
   ]
  },
  {
   "cell_type": "markdown",
   "id": "9e1b9a3a",
   "metadata": {},
   "source": [
    "### Ans2."
   ]
  },
  {
   "cell_type": "code",
   "execution_count": 2,
   "id": "2b729b63",
   "metadata": {},
   "outputs": [
    {
     "name": "stdout",
     "output_type": "stream",
     "text": [
      "['2', '3'] ➞ 6\n",
      "['1', '2', '3', '4'] ➞ 24\n",
      "['54', '75', '453', '0'] ➞ 0\n",
      "['10', '-2'] ➞ -20\n"
     ]
    }
   ],
   "source": [
    "def multiply_nums(str):\n",
    "    out_str = str.replace(' ','').split(',')\n",
    "    out_num = 1\n",
    "    for i in out_str:\n",
    "        out_num *= int(i)\n",
    "    print(f'{out_str} ➞ {out_num}')\n",
    "    \n",
    "multiply_nums(\"2, 3\")\n",
    "multiply_nums(\"1, 2, 3, 4\")\n",
    "multiply_nums(\"54, 75, 453, 0\")\n",
    "multiply_nums(\"10, -2\")"
   ]
  },
  {
   "cell_type": "markdown",
   "id": "870e8cc1",
   "metadata": {},
   "source": [
    "### Q3. Create a function that squares every digit of a number.\n",
    "Examples:\n",
    "\n",
    "square_digits(9119) ➞ 811181\n",
    "\n",
    "square_digits(2483) ➞ 416649\n",
    "\n",
    "square_digits(3212) ➞ 9414\n",
    "\n",
    "#### Notes\n",
    "The function receives an integer and must return an integer.\n",
    "\n"
   ]
  },
  {
   "cell_type": "markdown",
   "id": "7e11c146",
   "metadata": {},
   "source": [
    "### Ans3."
   ]
  },
  {
   "cell_type": "code",
   "execution_count": 3,
   "id": "59487c52",
   "metadata": {},
   "outputs": [
    {
     "name": "stdout",
     "output_type": "stream",
     "text": [
      "9119 ➞ 811181\n",
      "2483 ➞ 416649\n",
      "3212 ➞ 9414\n"
     ]
    }
   ],
   "source": [
    "def square_digits(num):\n",
    "    list = [str(int(i)**2) for i in str(num)]\n",
    "    out_list = ''.join(list)\n",
    "    print(f'{num} ➞ {int(out_list)}')\n",
    "    \n",
    "square_digits(9119)\n",
    "square_digits(2483)\n",
    "square_digits(3212)   "
   ]
  },
  {
   "cell_type": "markdown",
   "id": "398a5fc0",
   "metadata": {},
   "source": [
    "### Q4. Create a function that sorts a list and removes all duplicate items from it.\n",
    "Examples:\n",
    "\n",
    "setify([1, 3, 3, 5, 5]) ➞ [1, 3, 5]\n",
    "\n",
    "setify([4, 4, 4, 4]) ➞ [4]\n",
    "\n",
    "setify([5, 7, 8, 9, 10, 15]) ➞ [5, 7, 8, 9, 10, 15]\n",
    "\n",
    "setify([3, 3, 3, 2, 1]) ➞ [1, 2, 3]"
   ]
  },
  {
   "cell_type": "markdown",
   "id": "a5821e32",
   "metadata": {},
   "source": [
    "### Ans4."
   ]
  },
  {
   "cell_type": "code",
   "execution_count": 4,
   "id": "c3275937",
   "metadata": {},
   "outputs": [
    {
     "name": "stdout",
     "output_type": "stream",
     "text": [
      "setify[1, 3, 3, 5, 5] ➞ [1, 3, 5]\n",
      "setify[4, 4, 4, 4] ➞ [4]\n",
      "setify[5, 7, 8, 9, 10, 15] ➞ [5, 7, 8, 9, 10, 15]\n",
      "setify[3, 3, 3, 2, 1] ➞ [1, 2, 3]\n"
     ]
    }
   ],
   "source": [
    "def setify(list):\n",
    "    out_list = sorted(set(list))\n",
    "    print(f'setify{list} ➞ {out_list}')\n",
    "        \n",
    "setify([1, 3, 3, 5, 5]) \n",
    "setify([4, 4, 4, 4])\n",
    "setify([5, 7, 8, 9, 10, 15])\n",
    "setify([3, 3, 3, 2, 1])"
   ]
  },
  {
   "cell_type": "markdown",
   "id": "08d8fd1f",
   "metadata": {},
   "source": [
    "### Q5. Create a function that returns the mean of all digits.\n",
    "Examples:\n",
    "\n",
    "mean(42) ➞ 3\n",
    "\n",
    "mean(12345) ➞ 3\n",
    "\n",
    "mean(666) ➞ 6\n",
    "\n",
    "#### Notes\n",
    "- The mean of all digits is the sum of digits / how many digits there are (e.g. mean of digits in 512 is (5+1+2)/3(number of digits) = 8/3=2).\n",
    "- The mean will always be an integer."
   ]
  },
  {
   "cell_type": "markdown",
   "id": "b1fa0cc9",
   "metadata": {},
   "source": [
    "### Ans5."
   ]
  },
  {
   "cell_type": "code",
   "execution_count": 5,
   "id": "0432fb13",
   "metadata": {},
   "outputs": [
    {
     "name": "stdout",
     "output_type": "stream",
     "text": [
      "Mean of 42 ➞ 3\n",
      "Mean of 12345 ➞ 3\n",
      "Mean of 666 ➞ 6\n"
     ]
    }
   ],
   "source": [
    "def mean(num):\n",
    "    list = [int(i) for i in str(num)]\n",
    "    out_num = sum(list)/len(str(num))\n",
    "    print(f'Mean of {num} ➞ {out_num:.0f}')\n",
    "          \n",
    "mean(42)\n",
    "mean(12345)\n",
    "mean(666)"
   ]
  }
 ],
 "metadata": {
  "kernelspec": {
   "display_name": "Python 3 (ipykernel)",
   "language": "python",
   "name": "python3"
  },
  "language_info": {
   "codemirror_mode": {
    "name": "ipython",
    "version": 3
   },
   "file_extension": ".py",
   "mimetype": "text/x-python",
   "name": "python",
   "nbconvert_exporter": "python",
   "pygments_lexer": "ipython3",
   "version": "3.9.13"
  }
 },
 "nbformat": 4,
 "nbformat_minor": 5
}
