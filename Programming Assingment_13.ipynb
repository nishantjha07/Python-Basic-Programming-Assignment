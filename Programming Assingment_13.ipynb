{
 "cells": [
  {
   "cell_type": "markdown",
   "id": "943cd342",
   "metadata": {},
   "source": [
    "### Q1. Write a program that calculates and prints the value according to the given formula:\n",
    "\n",
    "Q = Square root of [(2 * C * D)/H]\n",
    "\n",
    "Following are the fixed values of C and H:\n",
    "\n",
    "C is 50. H is 30.\n",
    "\n",
    "D is the variable whose values should be input to your program in a comma-separated sequence.\n",
    "\n",
    "Example\n",
    "\n",
    "Let us assume the following comma separated input sequence is given to the program:\n",
    "\n",
    "100,150,180\n",
    "\n",
    "The output of the program should be:\n",
    "\n",
    "18,22,24"
   ]
  },
  {
   "cell_type": "markdown",
   "id": "bfce2812",
   "metadata": {},
   "source": [
    "### Ans1."
   ]
  },
  {
   "cell_type": "code",
   "execution_count": 1,
   "id": "7cfb8bd1",
   "metadata": {},
   "outputs": [
    {
     "name": "stdout",
     "output_type": "stream",
     "text": [
      "Enter the Input:100,150,180\n",
      "Output: 18,22,24\n"
     ]
    }
   ],
   "source": [
    "from math import sqrt\n",
    "def calculate():\n",
    "    number = eval(input('Enter the Input:'))\n",
    "    result = []\n",
    "    C = 50\n",
    "    H = 30\n",
    "    for ele in number:\n",
    "        Q = str(int(sqrt(2*C*ele/H)))\n",
    "        result.append(Q)\n",
    "    print(\"Output: {}\".format(','.join(result)))\n",
    "    \n",
    "calculate()"
   ]
  },
  {
   "cell_type": "markdown",
   "id": "0e01de5f",
   "metadata": {},
   "source": [
    "### Q2. Write a program which takes 2 digits, X,Y as input and generates a 2-dimensional array. The element value in the i-th row and j-th column of the array should be i*j.\n",
    "\n",
    "Note: i=0,1.., X-1; j=0,1,¡Y-1.\n",
    "\n",
    "Example\n",
    "\n",
    "Suppose the following inputs are given to the program:\n",
    "\n",
    "3,5\n",
    "\n",
    "Then, the output of the program should be:\n",
    "\n",
    "[[0, 0, 0, 0, 0], [0, 1, 2, 3, 4], [0, 2, 4, 6, 8]]"
   ]
  },
  {
   "cell_type": "markdown",
   "id": "cdf20b06",
   "metadata": {},
   "source": [
    "### Ans2."
   ]
  },
  {
   "cell_type": "code",
   "execution_count": 2,
   "id": "f917aa27",
   "metadata": {},
   "outputs": [
    {
     "name": "stdout",
     "output_type": "stream",
     "text": [
      "Enter the No. of Rows:3\n",
      "Enter the No. of Columns:5\n",
      "[[0, 0, 0, 0, 0], [0, 1, 2, 3, 4], [0, 2, 4, 6, 8]]\n"
     ]
    }
   ],
   "source": [
    "import array as arr\n",
    "def generateArray():\n",
    "    X = int(input('Enter the No. of Rows:'))\n",
    "    Y = int(input('Enter the No. of Columns:'))\n",
    "    Array = []\n",
    "    for ele in range(X):\n",
    "        Array.insert(X,[])\n",
    "        for sub_ele in range(Y):\n",
    "            Array[ele].append(ele*sub_ele)\n",
    "    print(Array)\n",
    "\n",
    "generateArray()"
   ]
  },
  {
   "cell_type": "markdown",
   "id": "66987aa5",
   "metadata": {},
   "source": [
    "### Q3. Write a program that accepts a comma separated sequence of words as input and prints the words in a comma-separated sequence after sorting them alphabetically.\n",
    "\n",
    "Suppose the following input is supplied to the program:\n",
    "\n",
    "without,hello,bag,world\n",
    "\n",
    "Then, the output should be:\n",
    "\n",
    "bag,hello,without,world"
   ]
  },
  {
   "cell_type": "markdown",
   "id": "abdb78cf",
   "metadata": {},
   "source": [
    "### Ans3."
   ]
  },
  {
   "cell_type": "code",
   "execution_count": 3,
   "id": "3faedb81",
   "metadata": {},
   "outputs": [
    {
     "name": "stdout",
     "output_type": "stream",
     "text": [
      "Enter the Input String: without,hello,bag,world\n",
      "Output: bag,hello,without,world\n"
     ]
    }
   ],
   "source": [
    "def sortString():\n",
    "    num = input(\"Enter the Input String: \")\n",
    "    result = ','.join(sorted(num.split(',')))\n",
    "    print(f'Output: {result}')\n",
    "    \n",
    "sortString()"
   ]
  },
  {
   "cell_type": "markdown",
   "id": "67089ef4",
   "metadata": {},
   "source": [
    "### 4. Write a program that accepts a sequence of whitespace separated words as input and prints the words after removing all duplicate words and sorting them alphanumerically.\n",
    "\n",
    "Suppose the following input is supplied to the program:\n",
    "\n",
    "hello world and practice makes perfect and hello world again\n",
    "\n",
    "Then, the output should be:\n",
    "\n",
    "again and hello makes perfect practice world"
   ]
  },
  {
   "cell_type": "markdown",
   "id": "a4aaf81b",
   "metadata": {},
   "source": [
    "### Ans4."
   ]
  },
  {
   "cell_type": "code",
   "execution_count": 4,
   "id": "fc816435",
   "metadata": {},
   "outputs": [
    {
     "name": "stdout",
     "output_type": "stream",
     "text": [
      "Enter the Input String: hello world and practice makes perfect and hello world again\n",
      "Output: again and hello makes perfect practice world\n"
     ]
    }
   ],
   "source": [
    "def sortAlphaNumerically():\n",
    "    num = input(\"Enter the Input String: \")\n",
    "    result = ' '.join(sorted(list(set(num.split(\" \")))))\n",
    "    print(f'Output: {result}')\n",
    "    \n",
    "sortAlphaNumerically()"
   ]
  },
  {
   "cell_type": "markdown",
   "id": "a151dfc1",
   "metadata": {},
   "source": [
    "### Q5. Write a program that accepts a sentence and calculate the number of letters and digits.\n",
    "\n",
    "Suppose the following input is supplied to the program:\n",
    "\n",
    "hello world! 123\n",
    "\n",
    "Then, the output should be:\n",
    "\n",
    "LETTERS 10\n",
    "\n",
    "DIGITS 3"
   ]
  },
  {
   "cell_type": "markdown",
   "id": "c3994e72",
   "metadata": {},
   "source": [
    "### Ans5."
   ]
  },
  {
   "cell_type": "code",
   "execution_count": 5,
   "id": "2302d8a2",
   "metadata": {},
   "outputs": [
    {
     "name": "stdout",
     "output_type": "stream",
     "text": [
      "Enter the Input String: hello world! 123\n",
      "LETTERS 10 \n",
      "DIGITS 3\n"
     ]
    }
   ],
   "source": [
    "def countLetterAndDigits():\n",
    "    num = input(\"Enter the Input String: \")\n",
    "    letters = 'ABCDEFGHIJKLMNOPQRSTUVWXYZabcdefghijklmnopqrstuvwxyz'\n",
    "    digits = '0123456789'\n",
    "    num_1 = 0\n",
    "    num_2 = 0\n",
    "    for ele in num:\n",
    "        if ele in letters:\n",
    "            num_1 += 1\n",
    "        if ele in digits:\n",
    "            num_2 += 1\n",
    "    print(f'LETTERS {num_1} \\nDIGITS {num_2}')\n",
    "        \n",
    "countLetterAndDigits()"
   ]
  },
  {
   "cell_type": "markdown",
   "id": "75ab9729",
   "metadata": {},
   "source": [
    "### 6. A website requires the users to input username and password to register. Write a program to check the validity of password input by users.\n",
    "\n",
    "Following are the criteria for checking the password:\n",
    "\n",
    "At least 1 letter between [a-z]\n",
    "\n",
    "At least 1 number between [0-9]\n",
    "\n",
    "At least 1 letter between [A-Z]\n",
    "\n",
    "At least 1 character from [$#@]\n",
    "\n",
    "Minimum length of transaction password: 6\n",
    "\n",
    "Maximum length of transaction password: 12\n",
    "\n",
    "Your program should accept a sequence of comma separated passwords and will check them according to the above criteria. Passwords that match the criteria are to be printed, each separated by a comma.\n",
    "\n",
    "Example\n",
    "\n",
    "If the following passwords are given as input to the program:\n",
    "\n",
    "ABd1234@1,a F1#,2w3E*,2We3345\n",
    "\n",
    "Then, the output of the program should be:\n",
    "\n",
    "ABd1234@1"
   ]
  },
  {
   "cell_type": "markdown",
   "id": "670e8590",
   "metadata": {},
   "source": [
    "### Ans6."
   ]
  },
  {
   "cell_type": "code",
   "execution_count": 6,
   "id": "b2a1b771",
   "metadata": {},
   "outputs": [
    {
     "name": "stdout",
     "output_type": "stream",
     "text": [
      "Enter the Input String: ABd1234@1,a F1#,2w3E*,2We3345\n",
      "ABd1234@1\n"
     ]
    }
   ],
   "source": [
    "def checkPassword():\n",
    "    result = input(\"Enter the Input String: \")\n",
    "    small = \"a-z\"\n",
    "    capital = \"A-Z\"\n",
    "    num = \"0-9\"\n",
    "    special_char = \"$#@\"\n",
    "    for ele in result.split(\",\"):\n",
    "        if len(ele) <= 12 and len(ele) >=6 :\n",
    "            if any(i.isupper() for i in ele):\n",
    "                if any(i.islower() for i in ele):\n",
    "                    if any(i for i in ele if i in special_char):\n",
    "                        print(ele)\n",
    "                               \n",
    "checkPassword() "
   ]
  }
 ],
 "metadata": {
  "kernelspec": {
   "display_name": "Python 3 (ipykernel)",
   "language": "python",
   "name": "python3"
  },
  "language_info": {
   "codemirror_mode": {
    "name": "ipython",
    "version": 3
   },
   "file_extension": ".py",
   "mimetype": "text/x-python",
   "name": "python",
   "nbconvert_exporter": "python",
   "pygments_lexer": "ipython3",
   "version": "3.9.13"
  }
 },
 "nbformat": 4,
 "nbformat_minor": 5
}
