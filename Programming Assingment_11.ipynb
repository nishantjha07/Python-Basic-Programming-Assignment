{
 "cells": [
  {
   "cell_type": "markdown",
   "id": "ce8343a4",
   "metadata": {},
   "source": [
    "### Q1.\tWrite a Python program to find words which are greater than given length k?"
   ]
  },
  {
   "cell_type": "markdown",
   "id": "6793d090",
   "metadata": {},
   "source": [
    "### Ans1."
   ]
  },
  {
   "cell_type": "code",
   "execution_count": 2,
   "id": "178fd4e1",
   "metadata": {},
   "outputs": [
    {
     "name": "stdout",
     "output_type": "stream",
     "text": [
      "Words longer than 4 characters: ['apple', 'banana', 'cherry', 'grape']\n"
     ]
    }
   ],
   "source": [
    "def words_longer_than_k(words, k):\n",
    "    # Filter words that are longer than k\n",
    "    longer_words = [word for word in words if len(word) > k]\n",
    "    return longer_words\n",
    "\n",
    "# Example usage\n",
    "words = [\"apple\", \"banana\", \"cherry\", \"date\", \"fig\", \"grape\"]\n",
    "k = 4\n",
    "\n",
    "result = words_longer_than_k(words, k)\n",
    "print(\"Words longer than\", k, \"characters:\", result)\n"
   ]
  },
  {
   "cell_type": "markdown",
   "id": "0f4cce72",
   "metadata": {},
   "source": [
    "### Q2.\tWrite a Python program for removing i-th character from a string?"
   ]
  },
  {
   "cell_type": "markdown",
   "id": "a77db9bb",
   "metadata": {},
   "source": [
    "### Ans2."
   ]
  },
  {
   "cell_type": "code",
   "execution_count": 3,
   "id": "81a68454",
   "metadata": {},
   "outputs": [
    {
     "name": "stdout",
     "output_type": "stream",
     "text": [
      "String after removing the 2 th character: yo\n"
     ]
    }
   ],
   "source": [
    "def remove_ith_char(s, i):\n",
    "    # Check if the index is within the range\n",
    "    if i < 0 or i >= len(s):\n",
    "        print(\"Index out of range\")\n",
    "        return s\n",
    "    \n",
    "    # Remove the i-th character\n",
    "    return s[:i] + s[i+1:]\n",
    "\n",
    "# Example usage\n",
    "string = \"yoo\"\n",
    "i = 2\n",
    "\n",
    "result = remove_ith_char(string, i)\n",
    "print(\"String after removing the\", i, \"th character:\", result)\n"
   ]
  },
  {
   "cell_type": "markdown",
   "id": "30d5f6fb",
   "metadata": {},
   "source": [
    "### Q3.\tWrite a Python program to split and join a string?"
   ]
  },
  {
   "cell_type": "markdown",
   "id": "681f42e2",
   "metadata": {},
   "source": [
    "### Ans3."
   ]
  },
  {
   "cell_type": "code",
   "execution_count": 4,
   "id": "d568da99",
   "metadata": {},
   "outputs": [
    {
     "name": "stdout",
     "output_type": "stream",
     "text": [
      "List of words after splitting: ['Hello', 'nishant,', 'welcome', 'to', 'Python', 'programming']\n",
      "String after joining: Hello nishant, welcome to Python programming\n",
      "List of words after splitting by comma: ['Hello nishant', ' welcome to Python programming']\n",
      "String after joining with comma: Hello nishant, welcome to Python programming\n"
     ]
    }
   ],
   "source": [
    "def split_and_join_string(s, delimiter=' '):\n",
    "    # Split the string into a list of words\n",
    "    words = s.split(delimiter)\n",
    "    \n",
    "    # Join the list of words back into a single string\n",
    "    joined_string = delimiter.join(words)\n",
    "    \n",
    "    return words, joined_string\n",
    "\n",
    "# Example usage\n",
    "string = \"Hello nishant, welcome to Python programming\"\n",
    "\n",
    "# Split and join using the default space delimiter\n",
    "words, joined_string = split_and_join_string(string)\n",
    "\n",
    "print(\"List of words after splitting:\", words)\n",
    "print(\"String after joining:\", joined_string)\n",
    "\n",
    "# Split and join using a comma as a delimiter\n",
    "delimiter = ','\n",
    "words, joined_string = split_and_join_string(string, delimiter)\n",
    "\n",
    "print(\"List of words after splitting by comma:\", words)\n",
    "print(\"String after joining with comma:\", joined_string)\n"
   ]
  },
  {
   "cell_type": "markdown",
   "id": "fcb7b2ee",
   "metadata": {},
   "source": [
    "### Q4.\tWrite a Python to check if a given string is binary string or not?"
   ]
  },
  {
   "cell_type": "markdown",
   "id": "65674898",
   "metadata": {},
   "source": [
    "### Ans4."
   ]
  },
  {
   "cell_type": "code",
   "execution_count": 5,
   "id": "88b9939d",
   "metadata": {},
   "outputs": [
    {
     "name": "stdout",
     "output_type": "stream",
     "text": [
      "Is '101010' a binary string? True\n",
      "Is '102011' a binary string? False\n"
     ]
    }
   ],
   "source": [
    "def is_binary_string(s):\n",
    "    # Check if all characters in the string are either '0' or '1'\n",
    "    for char in s:\n",
    "        if char not in ('0', '1'):\n",
    "            return False\n",
    "    return True\n",
    "\n",
    "# Example usage\n",
    "string1 = \"101010\"\n",
    "string2 = \"102011\"\n",
    "\n",
    "result1 = is_binary_string(string1)\n",
    "result2 = is_binary_string(string2)\n",
    "\n",
    "print(f\"Is '{string1}' a binary string? {result1}\")\n",
    "print(f\"Is '{string2}' a binary string? {result2}\")\n"
   ]
  },
  {
   "cell_type": "markdown",
   "id": "4a9faf0d",
   "metadata": {},
   "source": [
    "### Q5.\tWrite a Python program to find uncommon words from two Strings?"
   ]
  },
  {
   "cell_type": "markdown",
   "id": "8fb0bad1",
   "metadata": {},
   "source": [
    "### Ans5."
   ]
  },
  {
   "cell_type": "code",
   "execution_count": 6,
   "id": "30943b0f",
   "metadata": {},
   "outputs": [
    {
     "name": "stdout",
     "output_type": "stream",
     "text": [
      "Uncommon words: ['orange', 'grapes']\n"
     ]
    }
   ],
   "source": [
    "def find_uncommon_words(str1, str2):\n",
    "    # Split both strings into words\n",
    "    words1 = str1.split()\n",
    "    words2 = str2.split()\n",
    "    \n",
    "    # Use a dictionary to count the occurrences of each word\n",
    "    word_count = {}\n",
    "    \n",
    "    for word in words1:\n",
    "        word_count[word] = word_count.get(word, 0) + 1\n",
    "    \n",
    "    for word in words2:\n",
    "        word_count[word] = word_count.get(word, 0) + 1\n",
    "    \n",
    "    # Uncommon words are those with a count of 1\n",
    "    uncommon_words = [word for word in word_count if word_count[word] == 1]\n",
    "    \n",
    "    return uncommon_words\n",
    "\n",
    "# Example usage\n",
    "string1 = \"apple banana orange\"\n",
    "string2 = \"banana grapes apple\"\n",
    "\n",
    "uncommon_words = find_uncommon_words(string1, string2)\n",
    "print(\"Uncommon words:\", uncommon_words)\n"
   ]
  },
  {
   "cell_type": "markdown",
   "id": "02708ae5",
   "metadata": {},
   "source": [
    "### Q6.\tWrite a Python to find all duplicate characters in string?"
   ]
  },
  {
   "cell_type": "markdown",
   "id": "8ae43d2d",
   "metadata": {},
   "source": [
    "### Ans6."
   ]
  },
  {
   "cell_type": "code",
   "execution_count": 7,
   "id": "1ec44cf9",
   "metadata": {},
   "outputs": [
    {
     "name": "stdout",
     "output_type": "stream",
     "text": [
      "Duplicate characters: ['r', 'g', 'm']\n"
     ]
    }
   ],
   "source": [
    "def find_duplicate_characters(s):\n",
    "    # Create a dictionary to store the count of each character\n",
    "    char_count = {}\n",
    "    \n",
    "    # Count the occurrences of each character in the string\n",
    "    for char in s:\n",
    "        char_count[char] = char_count.get(char, 0) + 1\n",
    "    \n",
    "    # Extract the characters that have a count greater than 1 (duplicates)\n",
    "    duplicates = [char for char, count in char_count.items() if count > 1]\n",
    "    \n",
    "    return duplicates\n",
    "\n",
    "# Example usage\n",
    "string = \"programming\"\n",
    "\n",
    "duplicates = find_duplicate_characters(string)\n",
    "print(\"Duplicate characters:\", duplicates)\n"
   ]
  },
  {
   "cell_type": "markdown",
   "id": "b7356766",
   "metadata": {},
   "source": [
    "### Q7.\tWrite a Python Program to check if a string contains any special character?"
   ]
  },
  {
   "cell_type": "markdown",
   "id": "74e7b671",
   "metadata": {},
   "source": [
    "### Ans7."
   ]
  },
  {
   "cell_type": "code",
   "execution_count": 10,
   "id": "1b1b9c6e",
   "metadata": {},
   "outputs": [
    {
     "name": "stdout",
     "output_type": "stream",
     "text": [
      "Does 'HelloWorld123' contain special characters? False\n",
      "Does 'Hello@World!' contain special characters? True\n"
     ]
    }
   ],
   "source": [
    "import re\n",
    "\n",
    "def contains_special_characters(s):\n",
    "    # Define a regular expression pattern for special characters\n",
    "    special_char_pattern = re.compile('[^a-zA-Z0-9]')\n",
    "    \n",
    "    # Search for special characters in the string\n",
    "    if special_char_pattern.search(s):\n",
    "        return True\n",
    "    else:\n",
    "        return False\n",
    "\n",
    "# Example usage\n",
    "string1 = \"HelloWorld123\"\n",
    "string2 = \"Hello@World!\"\n",
    "\n",
    "result1 = contains_special_characters(string1)\n",
    "result2 = contains_special_characters(string2)\n",
    "\n",
    "print(f\"Does '{string1}' contain special characters? {result1}\")\n",
    "print(f\"Does '{string2}' contain special characters? {result2}\")\n"
   ]
  }
 ],
 "metadata": {
  "kernelspec": {
   "display_name": "Python 3 (ipykernel)",
   "language": "python",
   "name": "python3"
  },
  "language_info": {
   "codemirror_mode": {
    "name": "ipython",
    "version": 3
   },
   "file_extension": ".py",
   "mimetype": "text/x-python",
   "name": "python",
   "nbconvert_exporter": "python",
   "pygments_lexer": "ipython3",
   "version": "3.9.13"
  }
 },
 "nbformat": 4,
 "nbformat_minor": 5
}
